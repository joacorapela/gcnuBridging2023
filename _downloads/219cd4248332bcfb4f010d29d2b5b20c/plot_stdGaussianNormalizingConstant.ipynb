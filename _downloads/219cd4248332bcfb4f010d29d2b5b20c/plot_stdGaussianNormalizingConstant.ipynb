{
  "cells": [
    {
      "cell_type": "markdown",
      "metadata": {},
      "source": [
        "\n# Derivation of the normalizing constant for the standard Normal distribution\n\nBelow we illustrate how to derive this constant analytically and and how to\napproximate it by sampling.\n\n## Analytical derivation\n\nThe probability density function of a standard Normal distribution, $f_Z(z)$ is\n\n\\begin{align}f_Z(z)=\\frac{1}{K}\\exp(-\\frac{z^2}{2})\\end{align}\n\nBecause $f_Z(z)$ is a probability density function, it follows that\n\n\\begin{align}1=\\int_{-\\infty}^\\infty f_Z(z)dz=\\frac{1}{K}\\int_{-\\infty}^\\infty\\exp(-\\frac{z^2}{2})dz\\end{align}\n\nThen\n\n\\begin{align}\\begin{align}\n       K&=\\int_{-\\infty}^\\infty\\exp(-\\frac{z^2}{2})dz\\\\\n       K^2&=\\int_{-\\infty}^\\infty\\int_{-\\infty}^\\infty\\exp(-\\frac{x^2}{2})\\exp(-\\frac{y^2}{2})dxdy=\\int_{-\\infty}^\\infty\\int_{-\\infty}^\\infty\\exp(-\\frac{x^2+y^2}{2}))dxdy\n   \\end{align}\\end{align}\n\n\nWe now make the change of variables\n\n\\begin{align}\\begin{align}\n       r&=\\sqrt{x^2+y^2}\\\\\n       \\theta&=\\arctan(\\frac{x}{y})\n   \\end{align}\\end{align}\n\n\nfor which\n\n\\begin{align}\\begin{align}\n       x(r,\\theta)&=r\\cos(\\theta)\\\\\n       y(r,\\theta)&=r\\sin(\\theta)\n   \\end{align}\\end{align}\n\nwith Jacobian\n\n\\begin{align}\\begin{align}\n       J(r,\\theta)=\\left |\\begin{array}{cc}\n                                \\frac{\\partial x}{\\partial r}(r,\\theta)&\\frac{\\partial x}{\\partial \\theta}(r,\\theta)\\\\\n                                \\frac{\\partial y}{\\partial r}(r,\\theta)&\\frac{\\partial y}{\\partial \\theta}(r,\\theta)\n                           \\end{array}\\right |\n                  =\\left |\\begin{array}{cc}\n                                \\cos(\\theta) & -r\\sin(\\theta)\\\\\n                                \\sin(\\theta) & r\\cos(\\theta)\n                           \\end{array}\\right |\n                  =r\\cos^2(\\theta)+r\\sin^2(\\theta)=r(\\cos^2(\\theta)+\\sin^2(\\theta))=r\n   \\end{align}\\end{align}\n\nand obtain\n\n\\begin{align}\\begin{align}\n       K^2&=\\int_0^{2\\pi}\\int_0^\\infty\\exp(-\\frac{r^2}{2}))|J(r,\\theta)|drd\\theta=\\int_0^{2\\pi}\\int_0^\\infty\n       r\\exp(-\\frac{r^2}{2})drd\\theta=\\int_0^{2\\pi}\\left(\\left.\\exp(-\\frac{r^2}{2}))\\right\n       |_0^\\infty\\right)d\\theta\\\\\n          &=\\int_0^{2\\pi}1d\\theta=2\\pi\n   \\end{align}\\end{align}\n\nthen $K=\\sqrt{2\\pi}\\simeq 2.51$.\n\n## Estimation by sampling\n\nWe can also estimate $K$ by sampling. $K$ is the area under the\nfunction $\\tilde{f}_Z(z)=\\exp(-\\frac{z^2}{2})$. To estimate this area\nwe \n\n\n1. enclose most of the function $\\tilde{f}_Z(z)$ by a box, \n\n2. draw uniformly distributed samples in this box.\n\n3. calculate the proportion of samples below $\\tilde{f}_Z(z)$.\n\nNow, the ratio of the area under the function $\\tilde{f}_Z(z)$,\n$K$, to the area\nof the enclosing box, $B$, should be similar to the proportion of uniformly distributed\nsamples in the box that fell below function $\\tilde{f}_Z(z)$,\n$p\\_under$. That is $\\frac{K}{B}\\simeq p\\_under$, or\n$K\\simeq B\\;p\\_under$.\n"
      ]
    },
    {
      "cell_type": "markdown",
      "metadata": {},
      "source": [
        "## Import requirements\n\n"
      ]
    },
    {
      "cell_type": "code",
      "execution_count": null,
      "metadata": {
        "collapsed": false
      },
      "outputs": [],
      "source": [
        "import numpy as np\nimport plotly.graph_objects as go"
      ]
    },
    {
      "cell_type": "markdown",
      "metadata": {},
      "source": [
        "## Define constant\n\n"
      ]
    },
    {
      "cell_type": "code",
      "execution_count": null,
      "metadata": {
        "collapsed": false
      },
      "outputs": [],
      "source": [
        "lower_z = -5.0\nupper_z =  5.0\nn_z = 1000\nn_random = 100000\n\nzs = np.linspace(lower_z, upper_z, n_z)\nf_hat = lambda z: np.exp(-z**2/2)\nf_hat_values = f_hat(zs)\nbox_height = f_hat(0)\nbox = np.ones(n_z)"
      ]
    },
    {
      "cell_type": "markdown",
      "metadata": {},
      "source": [
        "## Sample uniform points in the box\n\n"
      ]
    },
    {
      "cell_type": "code",
      "execution_count": null,
      "metadata": {
        "collapsed": false
      },
      "outputs": [],
      "source": [
        "random_x = np.random.uniform(low=lower_z, high=upper_z, size=n_random)\nrandom_y = np.random.uniform(low=0, high=1, size=n_random)"
      ]
    },
    {
      "cell_type": "markdown",
      "metadata": {},
      "source": [
        "## Calculate the proportion of samples below unnormalized pdf\n\n"
      ]
    },
    {
      "cell_type": "code",
      "execution_count": null,
      "metadata": {
        "collapsed": false
      },
      "outputs": [],
      "source": [
        "count_under = 0\nindices_under = []\nindices_above = []\nfor i in range(n_random):\n    if random_y[i]<f_hat(random_x[i]):\n        count_under += 1\n        indices_under.append(i)\n    else:\n        indices_above.append(i)"
      ]
    },
    {
      "cell_type": "markdown",
      "metadata": {},
      "source": [
        "## Estimate K\n\n"
      ]
    },
    {
      "cell_type": "code",
      "execution_count": null,
      "metadata": {
        "collapsed": false
      },
      "outputs": [],
      "source": [
        "p_under = float(count_under)/n_random\narea_box = box_height*(upper_z-lower_z)\nprint(f\"K={area_box*p_under}\")"
      ]
    },
    {
      "cell_type": "markdown",
      "metadata": {},
      "source": [
        "## Plot samples above and below the unnormalized pdf\n\n"
      ]
    },
    {
      "cell_type": "code",
      "execution_count": null,
      "metadata": {
        "collapsed": false
      },
      "outputs": [],
      "source": [
        "fig = go.Figure()\ntrace = go.Scatter(x=zs, y=f_hat_values, mode=\"lines\", line=dict(color=\"red\"),\n                  showlegend=False)\nfig.add_trace(trace)\ntrace = go.Scatter(x=zs, y=box, mode=\"lines\", line=dict(color=\"blue\"),\n                   showlegend=False)\nfig.add_trace(trace)\nfig.update_layout(xaxis_title=\"z\", yaxis_title=r\"\\tilde{f}_Z(z)\")\ntrace = go.Scatter(x=random_x[indices_under], y=random_y[indices_under],\n                   mode=\"markers\", line=dict(color=\"red\"), showlegend=False)\nfig.add_trace(trace)\ntrace = go.Scatter(x=random_x[indices_above], y=random_y[indices_above],\n                   mode=\"markers\", line=dict(color=\"blue\"), showlegend=False)\nfig.add_trace(trace)\nfig"
      ]
    }
  ],
  "metadata": {
    "kernelspec": {
      "display_name": "Python 3",
      "language": "python",
      "name": "python3"
    },
    "language_info": {
      "codemirror_mode": {
        "name": "ipython",
        "version": 3
      },
      "file_extension": ".py",
      "mimetype": "text/x-python",
      "name": "python",
      "nbconvert_exporter": "python",
      "pygments_lexer": "ipython3",
      "version": "3.11.6"
    }
  },
  "nbformat": 4,
  "nbformat_minor": 0
}