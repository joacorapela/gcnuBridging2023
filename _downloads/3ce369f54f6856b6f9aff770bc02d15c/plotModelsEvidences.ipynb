{
  "cells": [
    {
      "cell_type": "markdown",
      "metadata": {},
      "source": [
        "\n# Plot model evidence\n\nPlot the evidence of models of different polynomial order.\n"
      ]
    },
    {
      "cell_type": "markdown",
      "metadata": {},
      "source": [
        "## Import requirments\n\n"
      ]
    },
    {
      "cell_type": "code",
      "execution_count": null,
      "metadata": {
        "collapsed": false
      },
      "outputs": [],
      "source": [
        "import numpy as np\nimport plotly.graph_objects as go\n\nimport joacorapela_common.stats.bayesianLinearRegression"
      ]
    },
    {
      "cell_type": "markdown",
      "metadata": {},
      "source": [
        "## Define a function to generate sinusoidal regression data\n\n"
      ]
    },
    {
      "cell_type": "code",
      "execution_count": null,
      "metadata": {
        "collapsed": false
      },
      "outputs": [],
      "source": [
        "def generateData(x, sigma=0.1):\n    y = np.sin(2*np.pi*x)\n    t = y + np.random.normal(loc=0, scale=sigma, size=len(y))\n    return y, t"
      ]
    },
    {
      "cell_type": "markdown",
      "metadata": {},
      "source": [
        "## Define functions to generate the design matrix sinusoidal regression data\n\n"
      ]
    },
    {
      "cell_type": "code",
      "execution_count": null,
      "metadata": {
        "collapsed": false
      },
      "outputs": [],
      "source": [
        "def getPolynomialBasisFunctions(M):\n    basis_functions = [None for m in range(M+1)]\n    for m in range(M+1):\n        basis_functions[m] = lambda x, m=m: x**m\n    return basis_functions\n\n\ndef buildDesignMatrixRow(x, basis_functions):\n    M = len(basis_functions)\n    design_matrix_row = np.empty(shape=M, dtype=np.double)\n    for m in range(M):\n        design_matrix_row[m] = basis_functions[m](x)\n    return design_matrix_row\n\n\ndef buildDesignMatrix(x, basis_functions):\n    M = len(basis_functions)\n    N = len(x)\n    design_matrix = np.empty(shape=(N, M), dtype=np.double)\n    for n in range(N):\n        design_matrix[n, :] = buildDesignMatrixRow(\n            x=x[n], basis_functions=basis_functions)\n    return design_matrix"
      ]
    },
    {
      "cell_type": "markdown",
      "metadata": {},
      "source": [
        "## Define function to compute the log model evidence\n\n"
      ]
    },
    {
      "cell_type": "code",
      "execution_count": null,
      "metadata": {
        "collapsed": false
      },
      "outputs": [],
      "source": [
        "def computeLogEvidence(N, M, mN, SN, Phi, t,\n                       prior_precision, likelihood_precision):\n    EmN = (likelihood_precision/2.0*np.linalg.norm(t-np.dot(Phi, mN), 2)**2 +\n           prior_precision/2.0*np.linalg.norm(mN, 2)**2)\n    log_model_evidence = (M/2.0 * np.log(prior_precision) +\n                          N/2.0 * np.log(likelihood_precision) -\n                          EmN +\n                          0.5 * np.log(np.linalg.det(SN)) -\n                          N/2.0 * np.log(2*np.pi))\n    return log_model_evidence"
      ]
    },
    {
      "cell_type": "markdown",
      "metadata": {},
      "source": [
        "## Generate train and test data\n\n"
      ]
    },
    {
      "cell_type": "code",
      "execution_count": null,
      "metadata": {
        "collapsed": false
      },
      "outputs": [],
      "source": [
        "# N = 4\nN = 10\n# N = 15\n# N = 100\nx = np.sort(np.random.uniform(size=N))\n_, t = generateData(x=x)"
      ]
    },
    {
      "cell_type": "markdown",
      "metadata": {},
      "source": [
        "## Set estimation parameters\n\n"
      ]
    },
    {
      "cell_type": "code",
      "execution_count": null,
      "metadata": {
        "collapsed": false
      },
      "outputs": [],
      "source": [
        "prior_precision = 0.005\nlikelihood_precision = 9.0"
      ]
    },
    {
      "cell_type": "markdown",
      "metadata": {},
      "source": [
        "## Calculate model evindences\n\n"
      ]
    },
    {
      "cell_type": "code",
      "execution_count": null,
      "metadata": {
        "collapsed": false
      },
      "outputs": [],
      "source": [
        "Ms = np.arange(10)\nlog_evidences = [None for m in Ms]\nfor M in Ms:\n    basis_functions = getPolynomialBasisFunctions(M=M)\n    Phi = buildDesignMatrix(x=x, basis_functions=basis_functions)\n    mN, SN = \\\n        joacorapela_common.stats.bayesianLinearRegression.batchWithSimplePrior(\n            Phi=Phi, y=t, alpha=prior_precision, beta=likelihood_precision)\n    log_evidences[M] = computeLogEvidence(\n        N=N, M=M, mN=mN, SN=SN, Phi=Phi, t=t,\n        prior_precision=prior_precision,\n        likelihood_precision=likelihood_precision)"
      ]
    },
    {
      "cell_type": "markdown",
      "metadata": {},
      "source": [
        "## Plot models' log evidences\n\n"
      ]
    },
    {
      "cell_type": "code",
      "execution_count": null,
      "metadata": {
        "collapsed": false
      },
      "outputs": [],
      "source": [
        "fig = go.Figure()\ntrace = go.Scatter(x=Ms, y=log_evidences, mode=\"lines+markers\",\n                   line=dict(color=\"blue\"))\nfig.add_trace(trace)\nfig.update_layout(xaxis_title=\"M\",\n                  yaxis_title=r\"$\\log p(\\mathbf{t}|\\alpha,\\beta)$\")\nfig"
      ]
    }
  ],
  "metadata": {
    "kernelspec": {
      "display_name": "Python 3",
      "language": "python",
      "name": "python3"
    },
    "language_info": {
      "codemirror_mode": {
        "name": "ipython",
        "version": 3
      },
      "file_extension": ".py",
      "mimetype": "text/x-python",
      "name": "python",
      "nbconvert_exporter": "python",
      "pygments_lexer": "ipython3",
      "version": "3.11.6"
    }
  },
  "nbformat": 4,
  "nbformat_minor": 0
}