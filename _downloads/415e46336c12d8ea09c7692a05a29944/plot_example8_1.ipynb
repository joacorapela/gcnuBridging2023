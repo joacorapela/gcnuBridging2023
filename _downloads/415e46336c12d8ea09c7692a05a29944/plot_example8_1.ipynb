{
  "cells": [
    {
      "cell_type": "markdown",
      "metadata": {},
      "source": [
        "\n# Example 8.1: conditional probability for two dice\n"
      ]
    },
    {
      "cell_type": "code",
      "execution_count": null,
      "metadata": {
        "collapsed": false
      },
      "outputs": [],
      "source": [
        "import numpy as np"
      ]
    },
    {
      "cell_type": "markdown",
      "metadata": {},
      "source": [
        "This function draws a sample from the sample space\n\n\n"
      ]
    },
    {
      "cell_type": "code",
      "execution_count": null,
      "metadata": {
        "collapsed": false
      },
      "outputs": [],
      "source": [
        "def sample():\n    two_dice = np.random.randint(low=1, high=7, size=2)\n    return two_dice"
      ]
    },
    {
      "cell_type": "markdown",
      "metadata": {},
      "source": [
        "This function checks if the sample belong to the unconditioned event\n\n\n"
      ]
    },
    {
      "cell_type": "code",
      "execution_count": null,
      "metadata": {
        "collapsed": false
      },
      "outputs": [],
      "source": [
        "def sample_in_unconditioned_event(two_dice):\n    # is any of the two dice equal to six?\n    answer = two_dice[0] == 6 or two_dice[1] == 6\n    return answer"
      ]
    },
    {
      "cell_type": "markdown",
      "metadata": {},
      "source": [
        "This function checks if the sample belong to the conditioned event\n\n\n"
      ]
    },
    {
      "cell_type": "code",
      "execution_count": null,
      "metadata": {
        "collapsed": false
      },
      "outputs": [],
      "source": [
        "def sample_in_conditioned_and_uncondtioned_event(two_dice):\n    # are  the two dice six?\n    answer = two_dice[0] == 6 and two_dice[1] == 6\n    return answer"
      ]
    },
    {
      "cell_type": "markdown",
      "metadata": {},
      "source": [
        "Below we draw many samples, check if each sample belongs to the event, and\ncomputes the probability of the event as the frequency of drawn samples\nbelonging to the event.\n\n"
      ]
    },
    {
      "cell_type": "code",
      "execution_count": null,
      "metadata": {
        "collapsed": false
      },
      "outputs": [],
      "source": [
        "n_samples=1000000\n\nn_samples_in_unconditioned_event = 0\nn_samples_in_conditioned_and_uncondtioned_event = 0\nfor i in range(n_samples):\n    a_sample = sample()\n    if sample_in_unconditioned_event(a_sample):\n        n_samples_in_unconditioned_event += 1\n    if sample_in_conditioned_and_uncondtioned_event(a_sample):\n        n_samples_in_conditioned_and_uncondtioned_event += 1\np_event = n_samples_in_conditioned_and_uncondtioned_event/n_samples_in_unconditioned_event\n\nprint(f\"probability {p_event}, \"\n      f\"estimated from {n_samples} simulations\")"
      ]
    }
  ],
  "metadata": {
    "kernelspec": {
      "display_name": "Python 3",
      "language": "python",
      "name": "python3"
    },
    "language_info": {
      "codemirror_mode": {
        "name": "ipython",
        "version": 3
      },
      "file_extension": ".py",
      "mimetype": "text/x-python",
      "name": "python",
      "nbconvert_exporter": "python",
      "pygments_lexer": "ipython3",
      "version": "3.11.6"
    }
  },
  "nbformat": 4,
  "nbformat_minor": 0
}