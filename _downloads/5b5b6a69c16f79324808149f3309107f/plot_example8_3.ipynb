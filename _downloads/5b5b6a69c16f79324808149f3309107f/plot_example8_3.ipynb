{
  "cells": [
    {
      "cell_type": "markdown",
      "metadata": {},
      "source": [
        "\n# Example 8.3: stranded tourists\n"
      ]
    },
    {
      "cell_type": "code",
      "execution_count": null,
      "metadata": {
        "collapsed": false
      },
      "outputs": [],
      "source": [
        "import numpy as np"
      ]
    },
    {
      "cell_type": "markdown",
      "metadata": {},
      "source": [
        "This function draws a sample from the sample space\n\n\n"
      ]
    },
    {
      "cell_type": "code",
      "execution_count": null,
      "metadata": {
        "collapsed": false
      },
      "outputs": [],
      "source": [
        "def sample():\n    n_guests_hotel_A = np.random.randint(low=0, high=16, size=1)\n    n_guests_hotel_B = np.random.randint(low=0, high=16-n_guests_hotel_A, size=1)\n    n_guests_hotel_C = np.random.randint(\n        low=0, high=16-(n_guests_hotel_A+n_guests_hotel_B), size=1)\n    n_guests_hotel_D = 15-(n_guests_hotel_A+n_guests_hotel_B+n_guests_hotel_C)\n    answer = (n_guests_hotel_A, n_guests_hotel_B, n_guests_hotel_C,\n              n_guests_hotel_D)\n    return answer"
      ]
    },
    {
      "cell_type": "markdown",
      "metadata": {},
      "source": [
        "This function checks if the sample belongs to the event\n\n\n"
      ]
    },
    {
      "cell_type": "code",
      "execution_count": null,
      "metadata": {
        "collapsed": false
      },
      "outputs": [],
      "source": [
        "def sample_in_event(assignments):\n    # all hotels have at least one guest?\n    answer = (assignments[0] > 0 and assignments[1] > 0 and \n              assignments[2] > 0 and assignments[3] > 0)\n    return answer"
      ]
    },
    {
      "cell_type": "markdown",
      "metadata": {},
      "source": [
        "Below we draw many samples, check if each sample belongs to the event, and\ncomputes the probability of the event as the frequency of drawn samples\nbelonging to the event.\n\n"
      ]
    },
    {
      "cell_type": "code",
      "execution_count": null,
      "metadata": {
        "collapsed": false
      },
      "outputs": [],
      "source": [
        "n_samples=100000\n\nn_samples_in_event = 0\nfor i in range(n_samples):\n    a_sample = sample()\n    if sample_in_event(a_sample):\n        n_samples_in_event += 1\np_event = n_samples_in_event/n_samples\n\nprint(f\"probability {p_event}, \"\n      f\"estimated from {n_samples} simulations\")"
      ]
    }
  ],
  "metadata": {
    "kernelspec": {
      "display_name": "Python 3",
      "language": "python",
      "name": "python3"
    },
    "language_info": {
      "codemirror_mode": {
        "name": "ipython",
        "version": 3
      },
      "file_extension": ".py",
      "mimetype": "text/x-python",
      "name": "python",
      "nbconvert_exporter": "python",
      "pygments_lexer": "ipython3",
      "version": "3.11.6"
    }
  },
  "nbformat": 4,
  "nbformat_minor": 0
}