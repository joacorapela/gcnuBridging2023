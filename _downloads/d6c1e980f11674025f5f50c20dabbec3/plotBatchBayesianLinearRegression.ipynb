{
  "cells": [
    {
      "cell_type": "markdown",
      "metadata": {},
      "source": [
        "\n# Batch Bayesian linear regression\n\nThe code below uses a batch algorithm to estimate the posterior of the weighs\nof a linear regression model using simulate data.\n"
      ]
    },
    {
      "cell_type": "markdown",
      "metadata": {},
      "source": [
        "## Import requirments\n\n"
      ]
    },
    {
      "cell_type": "code",
      "execution_count": null,
      "metadata": {
        "collapsed": false
      },
      "outputs": [],
      "source": [
        "import numpy as np\nimport scipy.stats\nimport plotly.graph_objects as go\n\nimport joacorapela_common.stats.bayesianLinearRegression"
      ]
    },
    {
      "cell_type": "markdown",
      "metadata": {},
      "source": [
        "## Define data generation variables\n\n"
      ]
    },
    {
      "cell_type": "code",
      "execution_count": null,
      "metadata": {
        "collapsed": false
      },
      "outputs": [],
      "source": [
        "n_samples = 20\na0 = -0.3\na1 = 0.5\nlikelihood_precision_coef = (1/0.2)**2"
      ]
    },
    {
      "cell_type": "markdown",
      "metadata": {},
      "source": [
        "## Generate data\n\n"
      ]
    },
    {
      "cell_type": "code",
      "execution_count": null,
      "metadata": {
        "collapsed": false
      },
      "outputs": [],
      "source": [
        "x = np.random.uniform(low=-1, high=1, size=n_samples)\ny = a0 + a1 * x\nt = y + np.random.standard_normal(size=y.shape) * 1.0/likelihood_precision_coef"
      ]
    },
    {
      "cell_type": "markdown",
      "metadata": {},
      "source": [
        "## Define plotting variables\n\n"
      ]
    },
    {
      "cell_type": "code",
      "execution_count": null,
      "metadata": {
        "collapsed": false
      },
      "outputs": [],
      "source": [
        "n_post_samples = 6\nmarker_true = \"cross\"\nsize_true = 10\ncolor_true = \"red\"\nmarker_data = \"circle-open\"\nsize_data = 10\ncolor_data = \"blue\"\nline_width_data = 5\nx_dense = np.arange(-1.0, 1.0, 0.1)"
      ]
    },
    {
      "cell_type": "markdown",
      "metadata": {},
      "source": [
        "## Plot generated data\n\n"
      ]
    },
    {
      "cell_type": "code",
      "execution_count": null,
      "metadata": {
        "collapsed": false
      },
      "outputs": [],
      "source": [
        "y_true = a0 + a1 * x_dense\nfig = go.Figure()\ntrace_true = go.Scatter(x=x_dense, y=y_true, mode=\"lines\", line_color=\"green\",\n                       showlegend=False)\nfig.add_trace(trace_true)\ntrace_data_points = go.Scatter(x=x, y=t,\n                               mode=\"markers\",\n                               marker_symbol=marker_data,\n                               marker_size=size_data,\n                               marker_color=color_data,\n                               marker_line_width=line_width_data,\n                               showlegend=False,\n                              )\nfig.add_trace(trace_data_points)\nfig.update_xaxes(title_text=\"x\")\nfig.update_yaxes(title_text=\"y\")"
      ]
    },
    {
      "cell_type": "markdown",
      "metadata": {},
      "source": [
        "## Define estimation variables\n\n"
      ]
    },
    {
      "cell_type": "code",
      "execution_count": null,
      "metadata": {
        "collapsed": false
      },
      "outputs": [],
      "source": [
        "prior_precision_coef = 2.0"
      ]
    },
    {
      "cell_type": "markdown",
      "metadata": {},
      "source": [
        "## Estimate posterior\n\n"
      ]
    },
    {
      "cell_type": "code",
      "execution_count": null,
      "metadata": {
        "collapsed": false
      },
      "outputs": [],
      "source": [
        "Phi = np.column_stack((np.ones(len(x)), x))\nmN, SN = \\\n    joacorapela_common.stats.bayesianLinearRegression.batchWithSimplePrior(\n        Phi=Phi, y=y, alpha=prior_precision_coef,\n        beta=likelihood_precision_coef)"
      ]
    },
    {
      "cell_type": "markdown",
      "metadata": {},
      "source": [
        "## Plot posterior pdf\n\n"
      ]
    },
    {
      "cell_type": "code",
      "execution_count": null,
      "metadata": {
        "collapsed": false
      },
      "outputs": [],
      "source": [
        "x_grid = np.linspace(-1, 1, 100)\ny_grid = np.linspace(-1, 1, 100)\nX_grid, Y_grid = np.meshgrid(x_grid, y_grid)\npos = np.dstack((X_grid, Y_grid))\n\nrv = scipy.stats.multivariate_normal(mN, SN)\nZ = rv.pdf(pos)\n\nfig = go.Figure()\n\ntrace_post = go.Contour(x=x_grid, y=y_grid, z=Z, showscale=False)\nfig.add_trace(trace_post)\n\ntrace_true_coef = go.Scatter(x=[a0], y=[a1], mode=\"markers\",\n                             marker_symbol=marker_true,\n                             marker_size=size_true,\n                             marker_color=color_true,\n                             name=\"true mean\")\nfig.add_trace(trace_true_coef)\nfig.add_vline(x=0, line_color=\"white\")\nfig.add_hline(y=0, line_color=\"white\")\nfig.update_layout(xaxis_title=\"Intercept\",\n                  yaxis_title=\"Slope\")"
      ]
    },
    {
      "cell_type": "markdown",
      "metadata": {},
      "source": [
        "## Plot sampled regression lines\n\n"
      ]
    },
    {
      "cell_type": "code",
      "execution_count": null,
      "metadata": {
        "collapsed": false
      },
      "outputs": [],
      "source": [
        "fig = go.Figure()\n\nsamples = rv.rvs(size=n_post_samples)\nfor a_sample in samples:\n    sample_intercept, sample_slope = a_sample\n    sample_y = sample_intercept + sample_slope * x_dense\n    trace = go.Scatter(x=x_dense, y=sample_y, mode=\"lines\",\n                       line_color=\"red\", showlegend=False)\n    fig.add_trace(trace)\nfig.update_xaxes(title_text=\"x\")\nfig.update_yaxes(title_text=\"y\")\n\nfig.add_trace(trace_data_points)\n\nfig"
      ]
    }
  ],
  "metadata": {
    "kernelspec": {
      "display_name": "Python 3",
      "language": "python",
      "name": "python3"
    },
    "language_info": {
      "codemirror_mode": {
        "name": "ipython",
        "version": 3
      },
      "file_extension": ".py",
      "mimetype": "text/x-python",
      "name": "python",
      "nbconvert_exporter": "python",
      "pygments_lexer": "ipython3",
      "version": "3.11.6"
    }
  },
  "nbformat": 4,
  "nbformat_minor": 0
}