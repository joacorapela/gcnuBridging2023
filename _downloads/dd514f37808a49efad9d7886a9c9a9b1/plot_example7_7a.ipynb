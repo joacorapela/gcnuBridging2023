{
  "cells": [
    {
      "cell_type": "markdown",
      "metadata": {},
      "source": [
        "\n# Example 7.7a: Chevalier de Mere to Blaise Pascal\n"
      ]
    },
    {
      "cell_type": "code",
      "execution_count": null,
      "metadata": {
        "collapsed": false
      },
      "outputs": [],
      "source": [
        "import numpy as np"
      ]
    },
    {
      "cell_type": "markdown",
      "metadata": {},
      "source": [
        "This function draws a sample from the sample space\n\n\n"
      ]
    },
    {
      "cell_type": "code",
      "execution_count": null,
      "metadata": {
        "collapsed": false
      },
      "outputs": [],
      "source": [
        "def sample(n_draws):\n    draws = np.random.randint(low=1, high=7, size=n_draws)\n    return draws"
      ]
    },
    {
      "cell_type": "markdown",
      "metadata": {},
      "source": [
        "This function checks if the sample belong to the event\n\n\n"
      ]
    },
    {
      "cell_type": "code",
      "execution_count": null,
      "metadata": {
        "collapsed": false
      },
      "outputs": [],
      "source": [
        "def sample_in_event(sample):\n    index_six = np.where(sample==6)[0]\n    if len(index_six)==0:\n        return False\n    return True"
      ]
    },
    {
      "cell_type": "markdown",
      "metadata": {},
      "source": [
        "Below we draw many samples, check if each sample belongs to the event, and\ncomputes the probability of the event as the frequency of drawn samples\nbelonging to the event.\n\n"
      ]
    },
    {
      "cell_type": "code",
      "execution_count": null,
      "metadata": {
        "collapsed": false
      },
      "outputs": [],
      "source": [
        "n_samples = 10000\nn_draws = 4\n\nn_samples_in_event = 0\nfor i in range(n_samples):\n    draws = sample(n_draws=n_draws)\n    if sample_in_event(sample=draws):\n        n_samples_in_event += 1\np_event = n_samples_in_event/n_samples\n\nprint(f\"probability {p_event}, \"\n      f\"estimated from {n_samples} simulations\")"
      ]
    }
  ],
  "metadata": {
    "kernelspec": {
      "display_name": "Python 3",
      "language": "python",
      "name": "python3"
    },
    "language_info": {
      "codemirror_mode": {
        "name": "ipython",
        "version": 3
      },
      "file_extension": ".py",
      "mimetype": "text/x-python",
      "name": "python",
      "nbconvert_exporter": "python",
      "pygments_lexer": "ipython3",
      "version": "3.11.6"
    }
  },
  "nbformat": 4,
  "nbformat_minor": 0
}