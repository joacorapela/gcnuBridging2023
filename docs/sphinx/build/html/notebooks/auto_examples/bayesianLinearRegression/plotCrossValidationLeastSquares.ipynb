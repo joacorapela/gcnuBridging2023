{
  "cells": [
    {
      "cell_type": "code",
      "execution_count": null,
      "metadata": {
        "collapsed": false
      },
      "outputs": [],
      "source": [
        "%matplotlib inline"
      ]
    },
    {
      "cell_type": "markdown",
      "metadata": {},
      "source": [
        "\n# Cross-validation for least-squares regression\n\nCalculate the root-mean-square error of a polynomial regression for train and\ntest data.\n"
      ]
    },
    {
      "cell_type": "markdown",
      "metadata": {},
      "source": [
        "## Import requirments\n\n"
      ]
    },
    {
      "cell_type": "code",
      "execution_count": null,
      "metadata": {
        "collapsed": false
      },
      "outputs": [],
      "source": [
        "import numpy as np\nimport plotly.graph_objects as go"
      ]
    },
    {
      "cell_type": "markdown",
      "metadata": {},
      "source": [
        "## Define a function to generate sinusoidal regression data\n\n"
      ]
    },
    {
      "cell_type": "code",
      "execution_count": null,
      "metadata": {
        "collapsed": false
      },
      "outputs": [],
      "source": [
        "def generateData(x, sigma=0.3):\n    y = np.sin(2*np.pi*x)\n    t = y + np.random.normal(loc=0, scale=sigma, size=len(y))\n    return y, t"
      ]
    },
    {
      "cell_type": "markdown",
      "metadata": {},
      "source": [
        "## Define functions to generate the design matrix sinusoidal regression data\n\n"
      ]
    },
    {
      "cell_type": "code",
      "execution_count": null,
      "metadata": {
        "collapsed": false
      },
      "outputs": [],
      "source": [
        "def getPolynomialBasisFunctions(M):\n    basis_functions = [None for m in range(M+1)]\n    for m in range(M+1):\n        basis_functions[m] = lambda x, m=m: x**m\n    return basis_functions\n\n\ndef buildDesignMatrixRow(x, basis_functions):\n    M = len(basis_functions)\n    design_matrix_row = np.empty(shape=M, dtype=np.double)\n    for m in range(M):\n        design_matrix_row[m] = basis_functions[m](x)\n    return design_matrix_row\n\n\ndef buildDesignMatrix(x, basis_functions):\n    M = len(basis_functions)\n    N = len(x)\n    design_matrix = np.empty(shape=(N, M), dtype=np.double)\n    for n in range(N):\n        design_matrix[n, :] = buildDesignMatrixRow(\n            x=x[n], basis_functions=basis_functions)\n    return design_matrix"
      ]
    },
    {
      "cell_type": "markdown",
      "metadata": {},
      "source": [
        "## Generate train and test data\n\n"
      ]
    },
    {
      "cell_type": "code",
      "execution_count": null,
      "metadata": {
        "collapsed": false
      },
      "outputs": [],
      "source": [
        "# N = 4\nN = 10\n# N = 15\n# N = 100\nx = np.sort(np.random.uniform(size=N))\n_, t_train = generateData(x=x)\n_, t_test = generateData(x=x)\n\nMs = np.arange(10)\ntrain_NRMSEs = [None for m in Ms]\ntest_NRMSEs = [None for m in Ms]\nfor M in Ms:\n    basis_functions = getPolynomialBasisFunctions(M=M)\n    Phi = buildDesignMatrix(x=x, basis_functions=basis_functions)\n    w_hat = np.linalg.solve(np.dot(Phi.T, Phi),\n                            np.dot(Phi.T, t_train))\n    predictions = np.dot(Phi, w_hat)\n    train_NRMSEs[M] = np.mean((predictions-t_train)**2)\n    test_NRMSEs[M] = np.mean((predictions-t_test)**2)"
      ]
    },
    {
      "cell_type": "markdown",
      "metadata": {},
      "source": [
        "## Plot NRMSEs\n\n"
      ]
    },
    {
      "cell_type": "code",
      "execution_count": null,
      "metadata": {
        "collapsed": false
      },
      "outputs": [],
      "source": [
        "fig = go.Figure()\ntrace_train = go.Scatter(x=Ms, y=train_NRMSEs, mode=\"lines+markers\",\n                         line=dict(color=\"blue\"), name=\"Train\")\ntrace_test = go.Scatter(x=Ms, y=test_NRMSEs, mode=\"lines+markers\",\n                        line=dict(color=\"red\"), name=\"Test\")\nfig.add_trace(trace_train)\nfig.add_trace(trace_test)\nfig.update_layout(xaxis_title=\"M\", yaxis_title=\"Root-Mean-Square Error\")\nfig.update_yaxes(range=[0.0, 1.0])\nfig"
      ]
    }
  ],
  "metadata": {
    "kernelspec": {
      "display_name": "Python 3",
      "language": "python",
      "name": "python3"
    },
    "language_info": {
      "codemirror_mode": {
        "name": "ipython",
        "version": 3
      },
      "file_extension": ".py",
      "mimetype": "text/x-python",
      "name": "python",
      "nbconvert_exporter": "python",
      "pygments_lexer": "ipython3",
      "version": "3.7.4"
    }
  },
  "nbformat": 4,
  "nbformat_minor": 0
}