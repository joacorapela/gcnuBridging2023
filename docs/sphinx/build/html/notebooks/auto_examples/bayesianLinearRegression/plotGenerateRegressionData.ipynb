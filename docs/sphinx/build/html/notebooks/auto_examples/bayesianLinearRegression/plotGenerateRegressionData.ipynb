{
  "cells": [
    {
      "cell_type": "markdown",
      "metadata": {},
      "source": [
        "\n# Data generation script for Bayesian linear regression\n\nThe code below generates data for Bayesian linear regression.\n"
      ]
    },
    {
      "cell_type": "markdown",
      "metadata": {},
      "source": [
        "## Import requirments\n\n"
      ]
    },
    {
      "cell_type": "code",
      "execution_count": null,
      "metadata": {
        "collapsed": false
      },
      "outputs": [],
      "source": [
        "import numpy as np\nimport plotly.graph_objects as go"
      ]
    },
    {
      "cell_type": "markdown",
      "metadata": {},
      "source": [
        "## Define data generation variables\n\n"
      ]
    },
    {
      "cell_type": "code",
      "execution_count": null,
      "metadata": {
        "collapsed": false
      },
      "outputs": [],
      "source": [
        "n_samples = 20\na0    = -0.3\na1    = 0.5\nsigma = 0.2\ndata_filename_pattern = \"data/linearRegression_nSamples{:02d}.npz\"\nfig_filename_pattern = \"figures/regression_data_nSamples{:02d}.{:s}\""
      ]
    },
    {
      "cell_type": "markdown",
      "metadata": {},
      "source": [
        "## Sample data\n\n"
      ]
    },
    {
      "cell_type": "code",
      "execution_count": null,
      "metadata": {
        "collapsed": false
      },
      "outputs": [],
      "source": [
        "x = np.random.uniform(low=-1, high=1, size=n_samples)\ny = a0 + a1 * x\nt = y + np.random.standard_normal(size=y.shape) * sigma"
      ]
    },
    {
      "cell_type": "markdown",
      "metadata": {},
      "source": [
        "## Save data\n\n"
      ]
    },
    {
      "cell_type": "code",
      "execution_count": null,
      "metadata": {
        "collapsed": false
      },
      "outputs": [],
      "source": [
        "data_filename = data_filename_pattern.format(n_samples)\nnp.savez(data_filename, x=x, y=y, t=t, a0=a0, a1=a1, sigma=sigma)"
      ]
    },
    {
      "cell_type": "markdown",
      "metadata": {},
      "source": [
        "## Plot data\n\n"
      ]
    },
    {
      "cell_type": "code",
      "execution_count": null,
      "metadata": {
        "collapsed": false
      },
      "outputs": [],
      "source": [
        "fig = go.Figure()\ntrace_y = go.Scatter(x=x, y=y, mode=\"lines+markers\", name=\"true reaction times\")\nfig.add_trace(trace_y)\ntrace_t = go.Scatter(x=x, y=t, mode=\"markers\", name=\"noisy reaction times\")\nfig.add_trace(trace_t)\nfig.update_xaxes(title_text=\"Grating Contrast\")\nfig.update_yaxes(title_text=\"Reaction Time\")\n\npng_fig_filename = fig_filename_pattern.format(n_samples, \"png\")\nhtml_fig_filename = fig_filename_pattern.format(n_samples, \"html\")\nfig.write_image(png_fig_filename)\nfig.write_html(html_fig_filename)\n\nfig"
      ]
    }
  ],
  "metadata": {
    "kernelspec": {
      "display_name": "Python 3",
      "language": "python",
      "name": "python3"
    },
    "language_info": {
      "codemirror_mode": {
        "name": "ipython",
        "version": 3
      },
      "file_extension": ".py",
      "mimetype": "text/x-python",
      "name": "python",
      "nbconvert_exporter": "python",
      "pygments_lexer": "ipython3",
      "version": "3.10.6"
    }
  },
  "nbformat": 4,
  "nbformat_minor": 0
}