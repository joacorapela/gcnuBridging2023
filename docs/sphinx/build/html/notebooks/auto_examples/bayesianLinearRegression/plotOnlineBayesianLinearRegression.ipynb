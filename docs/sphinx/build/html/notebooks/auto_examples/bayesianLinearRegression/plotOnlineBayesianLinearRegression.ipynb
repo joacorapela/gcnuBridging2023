{
  "cells": [
    {
      "cell_type": "markdown",
      "metadata": {},
      "source": [
        "\n# Online Bayesian linear regression\n\nThe code below uses an online algorithm to estimate the posterior of the weighs\nof a linear regression model using simulate data.\n"
      ]
    },
    {
      "cell_type": "markdown",
      "metadata": {},
      "source": [
        "## Import requirments\n\n"
      ]
    },
    {
      "cell_type": "code",
      "execution_count": null,
      "metadata": {
        "collapsed": false
      },
      "outputs": [],
      "source": [
        "import numpy as np\nimport scipy.stats\nimport plotly.subplots\nimport plotly.graph_objects as go\n\nimport joacorapela_common.stats.bayesianLinearRegression"
      ]
    },
    {
      "cell_type": "markdown",
      "metadata": {},
      "source": [
        "## Define data generation variables\n\n"
      ]
    },
    {
      "cell_type": "code",
      "execution_count": null,
      "metadata": {
        "collapsed": false
      },
      "outputs": [],
      "source": [
        "n_samples = 20\nn_post_samples = 6\nprior_precision_coef = 2.0\nn_samples_to_plot = (1, 2, 20)\ndata_filename_pattern = \"data/linearRegression_nSamples{:02d}.npz\"\nfig_filename_pattern = (\"figures/onlineBayesianLinearRegression_\"\n                        \"nSamples{:02d}.{:s}\")"
      ]
    },
    {
      "cell_type": "markdown",
      "metadata": {},
      "source": [
        "## Load data\n\n"
      ]
    },
    {
      "cell_type": "code",
      "execution_count": null,
      "metadata": {
        "collapsed": false
      },
      "outputs": [],
      "source": [
        "data_filename = data_filename_pattern.format(n_samples)\nload_res = np.load(data_filename)\nindependent_var = load_res[\"x\"]\nnoiseless_dependent_var = load_res[\"y\"]\ndependent_var = load_res[\"t\"]\na0 = load_res[\"a0\"]\na1 = load_res[\"a1\"]\nsigma = load_res[\"sigma\"]\nlikelihood_precision_coef = (1.0/sigma)**2"
      ]
    },
    {
      "cell_type": "markdown",
      "metadata": {},
      "source": [
        "## Estimate and plot posterior\n\n"
      ]
    },
    {
      "cell_type": "code",
      "execution_count": null,
      "metadata": {
        "collapsed": false
      },
      "outputs": [],
      "source": [
        "marker_true = \"cross\"\nsize_true = 10\ncolor_true = \"white\"\nmarker_data = \"circle-open\"\nsize_data = 10\ncolor_data = \"blue\"\nline_width_data = 5\nx = np.linspace(-1, 1, 100)\ny = np.linspace(-1, 1, 100)\nX, Y = np.meshgrid(x, y)\npos = np.dstack((X, Y))\n\nPhi = np.column_stack((np.ones(len(independent_var)), independent_var))\nalpha = prior_precision_coef\nbeta = likelihood_precision_coef\n\n# set prior\nm0 = np.array([0.0, 0.0])\nS0 = 1.0 / alpha * np.eye(2)\n#\n\nfig = plotly.subplots.make_subplots(rows=len(n_samples_to_plot)+1, cols=3)\nx_dense = np.arange(-1.0, 1.0, 0.1)\n\n# trace true coefficient\ntrace_true_coef = go.Scatter(x=[a0], y=[a1], mode=\"markers\",\n                             marker_symbol=marker_true,\n                             marker_size=size_true,\n                             marker_color=color_true,\n                             name=\"true mean\",\n                             showlegend=False)\n\nrv = scipy.stats.multivariate_normal(m0, S0)\n\n# plot prior\nZ = rv.pdf(pos)\ntrace_post = go.Contour(x=x, y=y, z=Z, showscale=False)\nfig.add_trace(trace_post, row=1, col=2)\n\nfig.add_trace(trace_true_coef, row=1, col=2)\n\nfig.update_xaxes(title_text=\"Intercept\", row=1, col=2)\nfig.update_yaxes(title_text=\"Slope\", row=1, col=2)\n\n# sample from prior\nsamples = rv.rvs(size=n_post_samples)\n\n# plot regression lines corresponding to samples\nfor a_sample in samples:\n    sample_intercept, sample_slope = a_sample\n    sample_y = sample_intercept + sample_slope * x_dense\n    trace = go.Scatter(x=x_dense, y=sample_y, mode=\"lines\",\n                       line_color=\"red\", showlegend=False)\n    fig.add_trace(trace, row=1, col=3)\nfig.update_xaxes(title_text=\"x\", row=1, col=3)\nfig.update_yaxes(title_text=\"y\", row=1, col=3)\n\nmn = m0\nSn = S0\nfor n, t in enumerate(dependent_var):\n    print(f\"Processing {n}/({len(dependent_var)})\")\n    # update posterior\n    mn, Sn = joacorapela_common.stats.bayesianLinearRegression.onlineUpdate(\n        mn=mn, Sn=Sn, phi=Phi[n, :], y=t, alpha=alpha, beta=beta)\n\n    if n+1 in n_samples_to_plot:\n        index_sample = n_samples_to_plot.index(n+1)\n        # compute likelihood\n        Z = np.empty(shape=(len(x), len(y)), dtype=np.double)\n        for i, w0 in enumerate(x):\n            for j, w1 in enumerate(y):\n                rv = scipy.stats.norm(w0 + w1 * independent_var[n], sigma)\n                Z[j, i] = rv.pdf(t)\n\n        # plot likelihood\n        trace_like = go.Contour(x=x, y=y, z=Z, showscale=False)\n        fig.add_trace(trace_like, row=index_sample+2, col=1)\n\n        fig.add_trace(trace_true_coef, row=index_sample+2, col=1)\n\n        fig.update_xaxes(title_text=\"Intercept\", row=index_sample+2, col=1)\n        fig.update_yaxes(title_text=\"Slope\", row=index_sample+2, col=1)\n\n        rv = scipy.stats.multivariate_normal(mn, Sn)\n\n        # plot updated posterior\n        Z = rv.pdf(pos)\n        trace_post = go.Contour(x=x, y=y, z=Z, showscale=False)\n        fig.add_trace(trace_post, row=index_sample+2, col=2)\n\n        fig.add_trace(trace_true_coef, row=index_sample+2, col=2)\n\n        fig.update_xaxes(title_text=\"Intercept\", row=index_sample+2, col=2)\n        fig.update_yaxes(title_text=\"Slope\", row=index_sample+2, col=2)\n\n        # sample from posterior\n        samples = rv.rvs(size=n_post_samples)\n\n        # plot regression lines corresponding to samples\n        for a_sample in samples:\n            sample_intercept, sample_slope = a_sample\n            sample_y = sample_intercept + sample_slope * x_dense\n            trace = go.Scatter(x=x_dense, y=sample_y, mode=\"lines\",\n                               line_color=\"red\", showlegend=False)\n            fig.add_trace(trace, row=index_sample+2, col=3)\n        trace_data = go.Scatter(x=independent_var[:(n+1)], y=dependent_var[:(n+1)],\n                                mode=\"markers\",\n                                marker_symbol=marker_data,\n                                marker_size=size_data,\n                                marker_color=color_data,\n                                marker_line_width=line_width_data,\n                                showlegend=False,\n                               )\n        fig.add_trace(trace_data, row=index_sample+2, col=3)\n        fig.update_xaxes(title_text=\"x\", row=index_sample+2, col=3)\n        fig.update_yaxes(title_text=\"y\", row=index_sample+2, col=3)\n\npng_fig_filename = fig_filename_pattern.format(n_samples, \"png\")\nhtml_fig_filename = fig_filename_pattern.format(n_samples, \"html\")\nfig.write_image(png_fig_filename)\nfig.write_html(html_fig_filename)\n\nfig"
      ]
    }
  ],
  "metadata": {
    "kernelspec": {
      "display_name": "Python 3",
      "language": "python",
      "name": "python3"
    },
    "language_info": {
      "codemirror_mode": {
        "name": "ipython",
        "version": 3
      },
      "file_extension": ".py",
      "mimetype": "text/x-python",
      "name": "python",
      "nbconvert_exporter": "python",
      "pygments_lexer": "ipython3",
      "version": "3.10.6"
    }
  },
  "nbformat": 4,
  "nbformat_minor": 0
}