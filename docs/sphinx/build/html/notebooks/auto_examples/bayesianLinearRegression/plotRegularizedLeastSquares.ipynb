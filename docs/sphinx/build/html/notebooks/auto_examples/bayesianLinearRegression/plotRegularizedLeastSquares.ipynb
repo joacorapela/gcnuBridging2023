{
  "cells": [
    {
      "cell_type": "code",
      "execution_count": null,
      "metadata": {
        "collapsed": false
      },
      "outputs": [],
      "source": [
        "%matplotlib inline"
      ]
    },
    {
      "cell_type": "markdown",
      "metadata": {},
      "source": [
        "\n# Regularized least-squares\n\nThis code demonstrates how reguularized least squares deals with\noverfitting.\n"
      ]
    },
    {
      "cell_type": "markdown",
      "metadata": {},
      "source": [
        "## Import requirments\n\n"
      ]
    },
    {
      "cell_type": "code",
      "execution_count": null,
      "metadata": {
        "collapsed": false
      },
      "outputs": [],
      "source": [
        "import numpy as np\nimport scipy.stats\nimport plotly.graph_objects as go\n\nimport joacorapela_common.stats.bayesianLinearRegression"
      ]
    },
    {
      "cell_type": "markdown",
      "metadata": {},
      "source": [
        "## Define a function to generate sinusoidal regression data\n\n"
      ]
    },
    {
      "cell_type": "code",
      "execution_count": null,
      "metadata": {
        "collapsed": false
      },
      "outputs": [],
      "source": [
        "def generateData(x, sigma=0.3):\n    y = np.sin(2*np.pi*x)\n    t = y + np.random.normal(loc=0, scale=sigma, size=len(y))\n    return y, t"
      ]
    },
    {
      "cell_type": "markdown",
      "metadata": {},
      "source": [
        "## Define functions to generate the design matrix sinusoidal regression data\n\n"
      ]
    },
    {
      "cell_type": "code",
      "execution_count": null,
      "metadata": {
        "collapsed": false
      },
      "outputs": [],
      "source": [
        "def getPolynomialBasisFunctions(M):\n    basis_functions = [None for m in range(M+1)]\n    for m in range(M+1):\n        basis_functions[m] = lambda x, m=m: x**m\n    return basis_functions\n\n\ndef buildDesignMatrixRow(x, basis_functions):\n    M = len(basis_functions)\n    design_matrix_row = np.empty(shape=M, dtype=np.double)\n    for m in range(M):\n        design_matrix_row[m] = basis_functions[m](x)\n    return design_matrix_row\n\n\ndef buildDesignMatrix(x, basis_functions):\n    M = len(basis_functions)\n    N = len(x)\n    design_matrix = np.empty(shape=(N, M), dtype=np.double)\n    for n in range(N):\n        design_matrix[n, :] = buildDesignMatrixRow(\n            x=x[n], basis_functions=basis_functions)\n    return design_matrix"
      ]
    },
    {
      "cell_type": "markdown",
      "metadata": {},
      "source": [
        "## Define plotting functions\n\n"
      ]
    },
    {
      "cell_type": "code",
      "execution_count": null,
      "metadata": {
        "collapsed": false
      },
      "outputs": [],
      "source": [
        "def getPlotBasisFunctions(x_dense, basis_functions):\n    fig = go.Figure()\n    for i in range(len(basis_functions)):\n        basis_function_values = basis_functions[i](x_dense)\n        trace = go.Scatter(x=x_dense, y=basis_function_values, mode=\"lines\",\n                           name=r\"$\\phi_{:d}$\".format(i))\n        fig.add_trace(trace)\n    fig.update_layout(xaxis_title=\"x\", yaxis_title=r\"$\\phi_i(x)$\",\n                      showlegend=False)\n    return fig\n\n\ndef getPlotPredictions(x_dense, true_dense, x, t, predictions_dense, M, reg_lambda):\n    fig = go.Figure()\n    trace_true = go.Scatter(x=x_dense, y=true_dense, mode=\"lines\",\n                            line_color=\"green\")\n    trace_data = go.Scatter(x=x, y=t, mode=\"markers\", marker_color=\"blue\",\n                            marker_symbol=\"circle-open\", marker_size=10)\n    trace_predictions = go.Scatter(x=x_dense, y=predictions_dense,\n                                   mode=\"lines\", line_color=\"red\")\n    fig.add_trace(trace_true)\n    fig.add_trace(trace_data)\n    fig.add_trace(trace_predictions)\n    fig.update_layout(xaxis_title=\"independent variable\",\n                      yaxis_title=\"dependent variable\",\n                      title=r\"$M={:d},\\lambda={:.2E}$\".format(M, reg_lambda), showlegend=False)\n    fig.update_yaxes(range=[-1.5, 1.5])\n    return fig"
      ]
    },
    {
      "cell_type": "markdown",
      "metadata": {},
      "source": [
        "## Generate train data\n\n"
      ]
    },
    {
      "cell_type": "code",
      "execution_count": null,
      "metadata": {
        "collapsed": false
      },
      "outputs": [],
      "source": [
        "# N = 4\nN = 10\n# N = 15\n# N = 100\nx = np.sort(np.random.uniform(size=N))\n_, t = generateData(x=x)\nx_dense = np.linspace(0, 1, 1000)\ntrue_dense, _ = generateData(x=x_dense, sigma=0.0)"
      ]
    },
    {
      "cell_type": "markdown",
      "metadata": {},
      "source": [
        "## Plot train data\n\n"
      ]
    },
    {
      "cell_type": "code",
      "execution_count": null,
      "metadata": {
        "collapsed": false
      },
      "outputs": [],
      "source": [
        "fig = go.Figure()\ntrace_true = go.Scatter(x=x_dense, y=true_dense, mode=\"lines\", line_color=\"green\")\ntrace_data = go.Scatter(x=x, y=t, mode=\"markers\", marker_color=\"blue\")\nfig.add_trace(trace_true)\nfig.add_trace(trace_data)\nfig.update_layout(xaxis_title=\"independent variable\",\n                  yaxis_title=\"dependent variable\",\n                  showlegend=False)\nfig"
      ]
    },
    {
      "cell_type": "markdown",
      "metadata": {},
      "source": [
        "## Set estimation parameters\n\n"
      ]
    },
    {
      "cell_type": "code",
      "execution_count": null,
      "metadata": {
        "collapsed": false
      },
      "outputs": [],
      "source": [
        "M = 9 # number of basis functions (excluding offset)"
      ]
    },
    {
      "cell_type": "markdown",
      "metadata": {},
      "source": [
        "## Get and plot the basis functions\n\n"
      ]
    },
    {
      "cell_type": "code",
      "execution_count": null,
      "metadata": {
        "collapsed": false
      },
      "outputs": [],
      "source": [
        "basis_functions = getPolynomialBasisFunctions(M=M)\nfig = getPlotBasisFunctions(x_dense=x_dense, basis_functions=basis_functions)\nfig"
      ]
    },
    {
      "cell_type": "markdown",
      "metadata": {},
      "source": [
        "## Build design matrix\n\n"
      ]
    },
    {
      "cell_type": "code",
      "execution_count": null,
      "metadata": {
        "collapsed": false
      },
      "outputs": [],
      "source": [
        "Phi = buildDesignMatrix(x=x, basis_functions=basis_functions)\nPhi_dense = buildDesignMatrix(x=x_dense, basis_functions=basis_functions)"
      ]
    },
    {
      "cell_type": "markdown",
      "metadata": {},
      "source": [
        "## Set regularization parameter\n\n"
      ]
    },
    {
      "cell_type": "code",
      "execution_count": null,
      "metadata": {
        "collapsed": false
      },
      "outputs": [],
      "source": [
        "reg_lambda = 0.0"
      ]
    },
    {
      "cell_type": "markdown",
      "metadata": {},
      "source": [
        "## Estimate least-square parameters\n\n"
      ]
    },
    {
      "cell_type": "code",
      "execution_count": null,
      "metadata": {
        "collapsed": false
      },
      "outputs": [],
      "source": [
        "w_hat = np.linalg.solve(np.dot(Phi.T, Phi)+reg_lambda*np.eye(M+1), np.dot(Phi.T, t))"
      ]
    },
    {
      "cell_type": "markdown",
      "metadata": {},
      "source": [
        "## Predict training data\n\n"
      ]
    },
    {
      "cell_type": "code",
      "execution_count": null,
      "metadata": {
        "collapsed": false
      },
      "outputs": [],
      "source": [
        "predictions_dense = np.dot(Phi_dense, w_hat)"
      ]
    },
    {
      "cell_type": "markdown",
      "metadata": {},
      "source": [
        "## Plot predictions\n\n"
      ]
    },
    {
      "cell_type": "code",
      "execution_count": null,
      "metadata": {
        "collapsed": false
      },
      "outputs": [],
      "source": [
        "fig = getPlotPredictions(x_dense=x_dense, true_dense=true_dense, x=x, t=t,\n                         predictions_dense=predictions_dense, M=M,\n                         reg_lambda=reg_lambda)\nfig"
      ]
    },
    {
      "cell_type": "markdown",
      "metadata": {},
      "source": [
        "## Set regularization parameter\n\n"
      ]
    },
    {
      "cell_type": "code",
      "execution_count": null,
      "metadata": {
        "collapsed": false
      },
      "outputs": [],
      "source": [
        "reg_lambda = 1e-9"
      ]
    },
    {
      "cell_type": "markdown",
      "metadata": {},
      "source": [
        "## Estimate least-square parameters\n\n"
      ]
    },
    {
      "cell_type": "code",
      "execution_count": null,
      "metadata": {
        "collapsed": false
      },
      "outputs": [],
      "source": [
        "w_hat = np.linalg.solve(np.dot(Phi.T, Phi)+reg_lambda*np.eye(M+1), np.dot(Phi.T, t))"
      ]
    },
    {
      "cell_type": "markdown",
      "metadata": {},
      "source": [
        "## Predict training data\n\n"
      ]
    },
    {
      "cell_type": "code",
      "execution_count": null,
      "metadata": {
        "collapsed": false
      },
      "outputs": [],
      "source": [
        "predictions_dense = np.dot(Phi_dense, w_hat)"
      ]
    },
    {
      "cell_type": "markdown",
      "metadata": {},
      "source": [
        "## Plot predictions\n\n"
      ]
    },
    {
      "cell_type": "code",
      "execution_count": null,
      "metadata": {
        "collapsed": false
      },
      "outputs": [],
      "source": [
        "fig = getPlotPredictions(x_dense=x_dense, true_dense=true_dense, x=x, t=t,\n                         predictions_dense=predictions_dense, M=M,\n                         reg_lambda=reg_lambda)\nfig"
      ]
    },
    {
      "cell_type": "markdown",
      "metadata": {},
      "source": [
        "## Set regularization parameter\n\n"
      ]
    },
    {
      "cell_type": "code",
      "execution_count": null,
      "metadata": {
        "collapsed": false
      },
      "outputs": [],
      "source": [
        "reg_lambda = 1e-3"
      ]
    },
    {
      "cell_type": "markdown",
      "metadata": {},
      "source": [
        "## Estimate least-square parameters\n\n"
      ]
    },
    {
      "cell_type": "code",
      "execution_count": null,
      "metadata": {
        "collapsed": false
      },
      "outputs": [],
      "source": [
        "w_hat = np.linalg.solve(np.dot(Phi.T, Phi)+reg_lambda*np.eye(M+1), np.dot(Phi.T, t))"
      ]
    },
    {
      "cell_type": "markdown",
      "metadata": {},
      "source": [
        "## Predict training data\n\n"
      ]
    },
    {
      "cell_type": "code",
      "execution_count": null,
      "metadata": {
        "collapsed": false
      },
      "outputs": [],
      "source": [
        "predictions_dense = np.dot(Phi_dense, w_hat)"
      ]
    },
    {
      "cell_type": "markdown",
      "metadata": {},
      "source": [
        "## Plot predictions\n\n"
      ]
    },
    {
      "cell_type": "code",
      "execution_count": null,
      "metadata": {
        "collapsed": false
      },
      "outputs": [],
      "source": [
        "fig = getPlotPredictions(x_dense=x_dense, true_dense=true_dense, x=x, t=t,\n                         predictions_dense=predictions_dense, M=M,\n                         reg_lambda=reg_lambda)\nfig"
      ]
    },
    {
      "cell_type": "markdown",
      "metadata": {},
      "source": [
        "## Set regularization parameter\n\n"
      ]
    },
    {
      "cell_type": "code",
      "execution_count": null,
      "metadata": {
        "collapsed": false
      },
      "outputs": [],
      "source": [
        "reg_lambda = 1e-0"
      ]
    },
    {
      "cell_type": "markdown",
      "metadata": {},
      "source": [
        "## Estimate least-square parameters\n\n"
      ]
    },
    {
      "cell_type": "code",
      "execution_count": null,
      "metadata": {
        "collapsed": false
      },
      "outputs": [],
      "source": [
        "w_hat = np.linalg.solve(np.dot(Phi.T, Phi)+reg_lambda*np.eye(M+1), np.dot(Phi.T, t))"
      ]
    },
    {
      "cell_type": "markdown",
      "metadata": {},
      "source": [
        "## Predict training data\n\n"
      ]
    },
    {
      "cell_type": "code",
      "execution_count": null,
      "metadata": {
        "collapsed": false
      },
      "outputs": [],
      "source": [
        "predictions_dense = np.dot(Phi_dense, w_hat)"
      ]
    },
    {
      "cell_type": "markdown",
      "metadata": {},
      "source": [
        "## Plot predictions\n\n"
      ]
    },
    {
      "cell_type": "code",
      "execution_count": null,
      "metadata": {
        "collapsed": false
      },
      "outputs": [],
      "source": [
        "fig = getPlotPredictions(x_dense=x_dense, true_dense=true_dense, x=x, t=t,\n                         predictions_dense=predictions_dense, M=M,\n                         reg_lambda=reg_lambda)\nfig"
      ]
    }
  ],
  "metadata": {
    "kernelspec": {
      "display_name": "Python 3",
      "language": "python",
      "name": "python3"
    },
    "language_info": {
      "codemirror_mode": {
        "name": "ipython",
        "version": 3
      },
      "file_extension": ".py",
      "mimetype": "text/x-python",
      "name": "python",
      "nbconvert_exporter": "python",
      "pygments_lexer": "ipython3",
      "version": "3.7.4"
    }
  },
  "nbformat": 4,
  "nbformat_minor": 0
}