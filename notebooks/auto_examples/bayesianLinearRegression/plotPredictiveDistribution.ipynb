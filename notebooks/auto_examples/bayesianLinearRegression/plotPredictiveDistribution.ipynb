{
  "cells": [
    {
      "cell_type": "markdown",
      "metadata": {},
      "source": [
        "\n# Predictive distribution\n\nThe code below demonstrates the use of the predictive distribution in Bayesian\nlinear regression.\n"
      ]
    },
    {
      "cell_type": "markdown",
      "metadata": {},
      "source": [
        "## Import requirments\n\n"
      ]
    },
    {
      "cell_type": "code",
      "execution_count": null,
      "metadata": {
        "collapsed": false
      },
      "outputs": [],
      "source": [
        "import numpy as np\nimport scipy.stats\nimport plotly.graph_objects as go\n\nimport joacorapela_common.stats.bayesianLinearRegression"
      ]
    },
    {
      "cell_type": "markdown",
      "metadata": {},
      "source": [
        "## Define a function to generate sinusoidal regression data\n\n"
      ]
    },
    {
      "cell_type": "code",
      "execution_count": null,
      "metadata": {
        "collapsed": false
      },
      "outputs": [],
      "source": [
        "def generateData(x, sigma=0.3):\n    y = np.sin(2*np.pi*x)\n    t = y + np.random.normal(loc=0, scale=sigma, size=len(y))\n    return y, t"
      ]
    },
    {
      "cell_type": "markdown",
      "metadata": {},
      "source": [
        "## Define functions to generate the design matrix sinusoidal regression data\n\n"
      ]
    },
    {
      "cell_type": "code",
      "execution_count": null,
      "metadata": {
        "collapsed": false
      },
      "outputs": [],
      "source": [
        "def getGaussianBasisFunctions(mus, sigma):\n    M = len(mus)\n    basis_functions = [None for m in range(M)]\n    for m in range(M):\n        basis_functions[m] = lambda x, mu=mus[m], sigma=sigma: \\\n            np.exp(-(x-mu)**2/(2.0*sigma**2))\n    return basis_functions\n\n\ndef buildGaussianDesignMatrixRow(x, basis_functions):\n    M = len(basis_functions)\n    design_matrix_row = np.empty(shape=M, dtype=np.double)\n    for m in range(M):\n        design_matrix_row[m] = basis_functions[m](x)\n    return design_matrix_row\n\n\ndef buildGaussianDesignMatrix(x, basis_functions):\n    M = len(basis_functions)\n    N = len(x)\n    design_matrix = np.empty(shape=(N, M), dtype=np.double)\n    for n in range(N):\n        design_matrix[n,:] = buildGaussianDesignMatrixRow(x=x[n],\n                                                          basis_functions=basis_functions)\n    return design_matrix"
      ]
    },
    {
      "cell_type": "markdown",
      "metadata": {},
      "source": [
        "## Generate train data\n\n"
      ]
    },
    {
      "cell_type": "code",
      "execution_count": null,
      "metadata": {
        "collapsed": false
      },
      "outputs": [],
      "source": [
        "N = 10\n# N = 25\n# N = 4\nx = np.sort(np.random.uniform(size=N))\n_, t = generateData(x=x)\nx_dense = np.linspace(0, 1, 1000)\ny_dense, _ = generateData(x=x_dense)"
      ]
    },
    {
      "cell_type": "markdown",
      "metadata": {},
      "source": [
        "## Plot train data\n\n"
      ]
    },
    {
      "cell_type": "code",
      "execution_count": null,
      "metadata": {
        "collapsed": false
      },
      "outputs": [],
      "source": [
        "fig = go.Figure()\ntrace_true = go.Scatter(x=x_dense, y=y_dense, mode=\"lines\", line_color=\"green\")\ntrace_data = go.Scatter(x=x, y=t, mode=\"markers\", marker_color=\"blue\")\nfig.add_trace(trace_true)\nfig.add_trace(trace_data)\nfig.update_layout(xaxis_title=\"independent variable\",\n                  yaxis_title=\"dependent variable\",\n                  showlegend=False)\nfig"
      ]
    },
    {
      "cell_type": "markdown",
      "metadata": {},
      "source": [
        "## Set estimation parameters\n\n"
      ]
    },
    {
      "cell_type": "code",
      "execution_count": null,
      "metadata": {
        "collapsed": false
      },
      "outputs": [],
      "source": [
        "bf_mus = np.arange(0.1, 1.0, 0.1)\nbf_sigma = 1.0/(N-1)\nprior_precision = 2.0\nlikelihood_precision = 25.0\nN_new = 100"
      ]
    },
    {
      "cell_type": "markdown",
      "metadata": {},
      "source": [
        "## Get and plot the basis functions\n\n"
      ]
    },
    {
      "cell_type": "code",
      "execution_count": null,
      "metadata": {
        "collapsed": false
      },
      "outputs": [],
      "source": [
        "basis_functions = getGaussianBasisFunctions(mus=bf_mus, sigma=bf_sigma)\n\nfig = go.Figure()\nfor i in range(len(basis_functions)):\n    basis_function_values = basis_functions[i](x_dense)\n    trace = go.Scatter(x=x_dense, y=basis_function_values, mode=\"lines\")\n    fig.add_trace(trace)\nfig.update_layout(xaxis_title=\"x\",\n                  yaxis_title=r\"$\\phi_i(x)$\",\n                  showlegend=False)\nfig"
      ]
    },
    {
      "cell_type": "markdown",
      "metadata": {},
      "source": [
        "## Build design matrix\n\n"
      ]
    },
    {
      "cell_type": "code",
      "execution_count": null,
      "metadata": {
        "collapsed": false
      },
      "outputs": [],
      "source": [
        "Phi = buildGaussianDesignMatrix(x=x, basis_functions=basis_functions)"
      ]
    },
    {
      "cell_type": "markdown",
      "metadata": {},
      "source": [
        "## Estimate posterior distribution\n\n"
      ]
    },
    {
      "cell_type": "code",
      "execution_count": null,
      "metadata": {
        "collapsed": false
      },
      "outputs": [],
      "source": [
        "mN, SN = \\\n    joacorapela_common.stats.bayesianLinearRegression.batchWithSimplePrior(\n        Phi=Phi, y=t, alpha=prior_precision, beta=likelihood_precision)"
      ]
    },
    {
      "cell_type": "markdown",
      "metadata": {},
      "source": [
        "## Estimate predictive distribution\n\n"
      ]
    },
    {
      "cell_type": "code",
      "execution_count": null,
      "metadata": {
        "collapsed": false
      },
      "outputs": [],
      "source": [
        "new_x = np.sort(np.random.uniform(size=N_new))\nnew_mean = np.empty(shape=N_new, dtype=np.double)\ntrue_mean = np.empty(shape=N_new, dtype=np.double)\nnew_var = np.empty(shape=N_new, dtype=np.double)\nfor n in range(N_new):\n    phi = buildGaussianDesignMatrixRow(x=new_x[n],\n                                       basis_functions=basis_functions)\n    new_mean[n] = np.dot(mN, phi)\n    true_mean[n] = np.sin(2*np.pi*new_x[n])\n    new_var[n] = 1.0/likelihood_precision + np.dot(phi, np.dot(SN, phi))"
      ]
    },
    {
      "cell_type": "markdown",
      "metadata": {},
      "source": [
        "## Plot predictive distribution\n\n"
      ]
    },
    {
      "cell_type": "code",
      "execution_count": null,
      "metadata": {
        "collapsed": false
      },
      "outputs": [],
      "source": [
        "new_mean_upper = new_mean + 1.96*np.sqrt(new_var)\nnew_mean_lower = new_mean - 1.96*np.sqrt(new_var)\nfig = go.Figure()\ntrace_true = go.Scatter(x=new_x, y=true_mean, mode=\"lines\", line_color=\"green\")\ntrace_mean = go.Scatter(x=new_x, y=new_mean, mode=\"lines\", line_color=\"red\")\ntrace_mean_cb = go.Scatter(x=np.concatenate((new_x, new_x[::-1])),\n                           y=np.concatenate((new_mean_upper,\n                                             new_mean_lower[::-1])),\n                           fill=\"toself\",\n                           fillcolor=\"rgba(255,0,0,0.3)\",\n                           line=dict(color=\"rgba(255,255,255,0)\"),\n                           hoverinfo=\"skip\",\n                           showlegend=False,\n                          )\ntrace_data = go.Scatter(x=x, y=t, mode=\"markers\", marker_color=\"blue\",\n                        marker_symbol=\"circle-open\", marker_size=10)\nfig.add_trace(trace_true)\nfig.add_trace(trace_mean)\nfig.add_trace(trace_mean_cb)\nfig.add_trace(trace_data)\nfig.update_layout(xaxis_title=\"independent variable\",\n                  yaxis_title=\"dependent variable\",\n                  showlegend=False)\nfig"
      ]
    }
  ],
  "metadata": {
    "kernelspec": {
      "display_name": "Python 3",
      "language": "python",
      "name": "python3"
    },
    "language_info": {
      "codemirror_mode": {
        "name": "ipython",
        "version": 3
      },
      "file_extension": ".py",
      "mimetype": "text/x-python",
      "name": "python",
      "nbconvert_exporter": "python",
      "pygments_lexer": "ipython3",
      "version": "3.11.6"
    }
  },
  "nbformat": 4,
  "nbformat_minor": 0
}