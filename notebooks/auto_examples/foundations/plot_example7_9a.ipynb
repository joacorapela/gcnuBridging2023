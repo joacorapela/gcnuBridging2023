{
  "cells": [
    {
      "cell_type": "markdown",
      "metadata": {},
      "source": [
        "\n# Example 7.9a: soccer teams in quarterfinal\n"
      ]
    },
    {
      "cell_type": "code",
      "execution_count": null,
      "metadata": {
        "collapsed": false
      },
      "outputs": [],
      "source": [
        "import numpy as np"
      ]
    },
    {
      "cell_type": "markdown",
      "metadata": {},
      "source": [
        "This function draws a sample from the sample space\n\n\n"
      ]
    },
    {
      "cell_type": "code",
      "execution_count": null,
      "metadata": {
        "collapsed": false
      },
      "outputs": [],
      "source": [
        "def sample(teams=[\"E1\", \"E2\", \"G1\", \"G2\", \"I1\", \"I2\", \"S1\", \"S2\"]):\n    permutation_indices = np.random.permutation(len(teams))\n    set_of_matches = [teams[i] for i in permutation_indices]\n    return set_of_matches"
      ]
    },
    {
      "cell_type": "markdown",
      "metadata": {},
      "source": [
        "This function checks if the sample belong to the event\n\n\n"
      ]
    },
    {
      "cell_type": "code",
      "execution_count": null,
      "metadata": {
        "collapsed": false
      },
      "outputs": [],
      "source": [
        "def sample_in_event(set_of_matches):\n    answer = ((set_of_matches[0][0] == set_of_matches[1][0]) and\n              (set_of_matches[2][0] == set_of_matches[3][0]) and\n              (set_of_matches[4][0] == set_of_matches[5][0]) and\n              (set_of_matches[6][0] == set_of_matches[7][0]))\n    return answer"
      ]
    },
    {
      "cell_type": "markdown",
      "metadata": {},
      "source": [
        "Below we draw many samples, check if each sample belongs to the event, and\ncomputes the probability of the event as the frequency of drawn samples\nbelonging to the event.\n\n"
      ]
    },
    {
      "cell_type": "code",
      "execution_count": null,
      "metadata": {
        "collapsed": false
      },
      "outputs": [],
      "source": [
        "n_samples=10000000\n\nn_samples_in_event = 0\nfor i in range(n_samples):\n    a_sample = sample()\n    if sample_in_event(a_sample):\n        n_samples_in_event += 1\np_event = n_samples_in_event/n_samples\n\nprint(f\"probability {p_event}, \"\n      f\"estimated from {n_samples} simulations\")"
      ]
    }
  ],
  "metadata": {
    "kernelspec": {
      "display_name": "Python 3",
      "language": "python",
      "name": "python3"
    },
    "language_info": {
      "codemirror_mode": {
        "name": "ipython",
        "version": 3
      },
      "file_extension": ".py",
      "mimetype": "text/x-python",
      "name": "python",
      "nbconvert_exporter": "python",
      "pygments_lexer": "ipython3",
      "version": "3.11.6"
    }
  },
  "nbformat": 4,
  "nbformat_minor": 0
}