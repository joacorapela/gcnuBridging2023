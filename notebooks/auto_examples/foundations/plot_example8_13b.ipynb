{
  "cells": [
    {
      "cell_type": "markdown",
      "metadata": {},
      "source": [
        "\n# Example 8.13 (modified): medical treatment probability of success\n"
      ]
    },
    {
      "cell_type": "code",
      "execution_count": null,
      "metadata": {
        "collapsed": false
      },
      "outputs": [],
      "source": [
        "import sys\nimport math\nimport numpy as np\nimport plotly.graph_objects as go"
      ]
    },
    {
      "cell_type": "markdown",
      "metadata": {},
      "source": [
        "prior function\n\n"
      ]
    },
    {
      "cell_type": "code",
      "execution_count": null,
      "metadata": {
        "collapsed": false
      },
      "outputs": [],
      "source": [
        "def prior(success_rate):\n    return 1.0 / 101"
      ]
    },
    {
      "cell_type": "markdown",
      "metadata": {},
      "source": [
        "likelihood function\n\n"
      ]
    },
    {
      "cell_type": "code",
      "execution_count": null,
      "metadata": {
        "collapsed": false
      },
      "outputs": [],
      "source": [
        "def likelihood(num_successes, success_rate, num_tests=10):\n    answer = (math.comb(num_tests, num_successes) * success_rate**num_successes *\n              (1 - success_rate)**(num_tests-num_successes))\n    return answer"
      ]
    },
    {
      "cell_type": "markdown",
      "metadata": {},
      "source": [
        "define variables\n\n"
      ]
    },
    {
      "cell_type": "code",
      "execution_count": null,
      "metadata": {
        "collapsed": false
      },
      "outputs": [],
      "source": [
        "num_tests = 10\ntrue_success_rate = 0.7\nnum_observations = 30\nnum_bins_succeses = 101"
      ]
    },
    {
      "cell_type": "markdown",
      "metadata": {},
      "source": [
        "computer prior\n\n"
      ]
    },
    {
      "cell_type": "code",
      "execution_count": null,
      "metadata": {
        "collapsed": false
      },
      "outputs": [],
      "source": [
        "success_rates = [float(i)/num_bins_succeses\n                 for i in range(num_bins_succeses)]\nobs_num_successes = np.random.binomial(n=num_tests, p=true_success_rate,\n                                       size=num_observations)\ncurrent_prior = np.array([prior(success_rate=success_rate)\n                          for success_rate in success_rates])"
      ]
    },
    {
      "cell_type": "markdown",
      "metadata": {},
      "source": [
        "plot prior\n\n"
      ]
    },
    {
      "cell_type": "code",
      "execution_count": null,
      "metadata": {
        "collapsed": false
      },
      "outputs": [],
      "source": [
        "i = -1\nfig = go.Figure()\ntrace = go.Bar(x=success_rates, y=current_prior)\nfig.add_trace(trace)\nfig.add_vline(x=true_success_rate, line_color=\"red\")\nfig.update_layout(xaxis_title=\"Success Rate\",\n                  yaxis_title=\"Probability\",\n                  title=(f\"Number Observations {i+1}, \"\n                         f\"True Prob. Success {true_success_rate}\"))\nfig"
      ]
    },
    {
      "cell_type": "markdown",
      "metadata": {},
      "source": [
        "computer and plot posteriors for 1 observation\n\n"
      ]
    },
    {
      "cell_type": "code",
      "execution_count": null,
      "metadata": {
        "collapsed": false
      },
      "outputs": [],
      "source": [
        "i = 0\nan_obs_num_successes = obs_num_successes[i]\ncurrent_likelihood = np.array([likelihood(num_successes=an_obs_num_successes,\n                                          success_rate=success_rate)\n                               for success_rate in success_rates])\ncurrent_posterior = current_prior * current_likelihood\ncurrent_posterior /= np.sum(current_posterior)\ncurrent_prior = current_posterior\n\nfig = go.Figure()\ntrace = go.Bar(x=success_rates, y=current_posterior)\nfig.add_trace(trace)\nfig.add_vline(x=true_success_rate, line_color=\"red\")\nfig.update_layout(xaxis_title=\"Success Rate\",\n                  yaxis_title=\"Probability\",\n                  title=(f\"Number Observations {i+1}, \"\n                         f\"True Prob. Success {true_success_rate}\"))\nfig"
      ]
    },
    {
      "cell_type": "markdown",
      "metadata": {},
      "source": [
        "computer and plot posteriors for 1 observation\n\n"
      ]
    },
    {
      "cell_type": "code",
      "execution_count": null,
      "metadata": {
        "collapsed": false
      },
      "outputs": [],
      "source": [
        "i = 1\nan_obs_num_successes = obs_num_successes[i]\ncurrent_likelihood = np.array([likelihood(num_successes=an_obs_num_successes,\n                                          success_rate=success_rate)\n                               for success_rate in success_rates])\ncurrent_posterior = current_prior * current_likelihood\ncurrent_posterior /= np.sum(current_posterior)\ncurrent_prior = current_posterior\n\nfig = go.Figure()\ntrace = go.Bar(x=success_rates, y=current_posterior)\nfig.add_trace(trace)\nfig.add_vline(x=true_success_rate, line_color=\"red\")\nfig.update_layout(xaxis_title=\"Success Rate\",\n                  yaxis_title=\"Probability\",\n                  title=(f\"Number Observations {i+1}, \"\n                         f\"True Prob. Success {true_success_rate}\"))\nfig"
      ]
    },
    {
      "cell_type": "markdown",
      "metadata": {},
      "source": [
        "computer and plot posteriors for 2 observations\n\n"
      ]
    },
    {
      "cell_type": "code",
      "execution_count": null,
      "metadata": {
        "collapsed": false
      },
      "outputs": [],
      "source": [
        "i = 2\nan_obs_num_successes = obs_num_successes[i]\ncurrent_likelihood = np.array([likelihood(num_successes=an_obs_num_successes,\n                                          success_rate=success_rate)\n                               for success_rate in success_rates])\ncurrent_posterior = current_prior * current_likelihood\ncurrent_posterior /= np.sum(current_posterior)\ncurrent_prior = current_posterior\n\nfig = go.Figure()\ntrace = go.Bar(x=success_rates, y=current_posterior)\nfig.add_trace(trace)\nfig.add_vline(x=true_success_rate, line_color=\"red\")\nfig.update_layout(xaxis_title=\"Success Rate\",\n                  yaxis_title=\"Probability\",\n                  title=(f\"Number Observations {i+1}, \"\n                         f\"True Prob. Success {true_success_rate}\"))\nfig"
      ]
    },
    {
      "cell_type": "markdown",
      "metadata": {},
      "source": [
        "computer and plot posteriors for 3 observations\n\n"
      ]
    },
    {
      "cell_type": "code",
      "execution_count": null,
      "metadata": {
        "collapsed": false
      },
      "outputs": [],
      "source": [
        "i = 3\nan_obs_num_successes = obs_num_successes[i]\ncurrent_likelihood = np.array([likelihood(num_successes=an_obs_num_successes,\n                                          success_rate=success_rate)\n                               for success_rate in success_rates])\ncurrent_posterior = current_prior * current_likelihood\ncurrent_posterior /= np.sum(current_posterior)\ncurrent_prior = current_posterior\n\nfig = go.Figure()\ntrace = go.Bar(x=success_rates, y=current_posterior)\nfig.add_trace(trace)\nfig.add_vline(x=true_success_rate, line_color=\"red\")\nfig.update_layout(xaxis_title=\"Success Rate\",\n                  yaxis_title=\"Probability\",\n                  title=(f\"Number Observations {i+1}, \"\n                         f\"True Prob. Success {true_success_rate}\"))\nfig"
      ]
    },
    {
      "cell_type": "markdown",
      "metadata": {},
      "source": [
        "computer and plot posteriors for 4 observations\n\n"
      ]
    },
    {
      "cell_type": "code",
      "execution_count": null,
      "metadata": {
        "collapsed": false
      },
      "outputs": [],
      "source": [
        "i = 4\nan_obs_num_successes = obs_num_successes[i]\ncurrent_likelihood = np.array([likelihood(num_successes=an_obs_num_successes,\n                                          success_rate=success_rate)\n                               for success_rate in success_rates])\ncurrent_posterior = current_prior * current_likelihood\ncurrent_posterior /= np.sum(current_posterior)\ncurrent_prior = current_posterior\n\nfig = go.Figure()\ntrace = go.Bar(x=success_rates, y=current_posterior)\nfig.add_trace(trace)\nfig.add_vline(x=true_success_rate, line_color=\"red\")\nfig.update_layout(xaxis_title=\"Success Rate\",\n                  yaxis_title=\"Probability\",\n                  title=(f\"Number Observations {i+1}, \"\n                         f\"True Prob. Success {true_success_rate}\"))\nfig"
      ]
    },
    {
      "cell_type": "markdown",
      "metadata": {},
      "source": [
        "computer and plot posteriors for 5 observations\n\n"
      ]
    },
    {
      "cell_type": "code",
      "execution_count": null,
      "metadata": {
        "collapsed": false
      },
      "outputs": [],
      "source": [
        "i = 5\nan_obs_num_successes = obs_num_successes[i]\ncurrent_likelihood = np.array([likelihood(num_successes=an_obs_num_successes,\n                                          success_rate=success_rate)\n                               for success_rate in success_rates])\ncurrent_posterior = current_prior * current_likelihood\ncurrent_posterior /= np.sum(current_posterior)\ncurrent_prior = current_posterior\n\nfig = go.Figure()\ntrace = go.Bar(x=success_rates, y=current_posterior)\nfig.add_trace(trace)\nfig.add_vline(x=true_success_rate, line_color=\"red\")\nfig.update_layout(xaxis_title=\"Success Rate\",\n                  yaxis_title=\"Probability\",\n                  title=(f\"Number Observations {i+1}, \"\n                         f\"True Prob. Success {true_success_rate}\"))\nfig"
      ]
    },
    {
      "cell_type": "markdown",
      "metadata": {},
      "source": [
        "computer and plot posteriors for 6 observations\n\n"
      ]
    },
    {
      "cell_type": "code",
      "execution_count": null,
      "metadata": {
        "collapsed": false
      },
      "outputs": [],
      "source": [
        "i = 6\nan_obs_num_successes = obs_num_successes[i]\ncurrent_likelihood = np.array([likelihood(num_successes=an_obs_num_successes,\n                                          success_rate=success_rate)\n                               for success_rate in success_rates])\ncurrent_posterior = current_prior * current_likelihood\ncurrent_posterior /= np.sum(current_posterior)\ncurrent_prior = current_posterior\n\nfig = go.Figure()\ntrace = go.Bar(x=success_rates, y=current_posterior)\nfig.add_trace(trace)\nfig.add_vline(x=true_success_rate, line_color=\"red\")\nfig.update_layout(xaxis_title=\"Success Rate\",\n                  yaxis_title=\"Probability\",\n                  title=(f\"Number Observations {i+1}, \"\n                         f\"True Prob. Success {true_success_rate}\"))\nfig"
      ]
    },
    {
      "cell_type": "markdown",
      "metadata": {},
      "source": [
        "computer and plot posteriors for 7 observations\n\n"
      ]
    },
    {
      "cell_type": "code",
      "execution_count": null,
      "metadata": {
        "collapsed": false
      },
      "outputs": [],
      "source": [
        "i = 7\nan_obs_num_successes = obs_num_successes[i]\ncurrent_likelihood = np.array([likelihood(num_successes=an_obs_num_successes,\n                                          success_rate=success_rate)\n                               for success_rate in success_rates])\ncurrent_posterior = current_prior * current_likelihood\ncurrent_posterior /= np.sum(current_posterior)\ncurrent_prior = current_posterior\n\nfig = go.Figure()\ntrace = go.Bar(x=success_rates, y=current_posterior)\nfig.add_trace(trace)\nfig.add_vline(x=true_success_rate, line_color=\"red\")\nfig.update_layout(xaxis_title=\"Success Rate\",\n                  yaxis_title=\"Probability\",\n                  title=(f\"Number Observations {i+1}, \"\n                         f\"True Prob. Success {true_success_rate}\"))\nfig"
      ]
    },
    {
      "cell_type": "markdown",
      "metadata": {},
      "source": [
        "computer and plot posteriors for 8 observations\n\n"
      ]
    },
    {
      "cell_type": "code",
      "execution_count": null,
      "metadata": {
        "collapsed": false
      },
      "outputs": [],
      "source": [
        "i = 8\nan_obs_num_successes = obs_num_successes[i]\ncurrent_likelihood = np.array([likelihood(num_successes=an_obs_num_successes,\n                                          success_rate=success_rate)\n                               for success_rate in success_rates])\ncurrent_posterior = current_prior * current_likelihood\ncurrent_posterior /= np.sum(current_posterior)\ncurrent_prior = current_posterior\n\nfig = go.Figure()\ntrace = go.Bar(x=success_rates, y=current_posterior)\nfig.add_trace(trace)\nfig.add_vline(x=true_success_rate, line_color=\"red\")\nfig.update_layout(xaxis_title=\"Success Rate\",\n                  yaxis_title=\"Probability\",\n                  title=(f\"Number Observations {i+1}, \"\n                         f\"True Prob. Success {true_success_rate}\"))\nfig"
      ]
    },
    {
      "cell_type": "markdown",
      "metadata": {},
      "source": [
        "computer and plot posteriors for 9 observations\n\n"
      ]
    },
    {
      "cell_type": "code",
      "execution_count": null,
      "metadata": {
        "collapsed": false
      },
      "outputs": [],
      "source": [
        "i = 9\nan_obs_num_successes = obs_num_successes[i]\ncurrent_likelihood = np.array([likelihood(num_successes=an_obs_num_successes,\n                                          success_rate=success_rate)\n                               for success_rate in success_rates])\ncurrent_posterior = current_prior * current_likelihood\ncurrent_posterior /= np.sum(current_posterior)\ncurrent_prior = current_posterior\n\nfig = go.Figure()\ntrace = go.Bar(x=success_rates, y=current_posterior)\nfig.add_trace(trace)\nfig.add_vline(x=true_success_rate, line_color=\"red\")\nfig.update_layout(xaxis_title=\"Success Rate\",\n                  yaxis_title=\"Probability\",\n                  title=(f\"Number Observations {i+1}, \"\n                         f\"True Prob. Success {true_success_rate}\"))\nfig"
      ]
    },
    {
      "cell_type": "markdown",
      "metadata": {},
      "source": [
        "computer and plot posteriors for 10 observations\n\n"
      ]
    },
    {
      "cell_type": "code",
      "execution_count": null,
      "metadata": {
        "collapsed": false
      },
      "outputs": [],
      "source": [
        "i = 10\nan_obs_num_successes = obs_num_successes[i]\ncurrent_likelihood = np.array([likelihood(num_successes=an_obs_num_successes,\n                                          success_rate=success_rate)\n                               for success_rate in success_rates])\ncurrent_posterior = current_prior * current_likelihood\ncurrent_posterior /= np.sum(current_posterior)\ncurrent_prior = current_posterior\n\nfig = go.Figure()\ntrace = go.Bar(x=success_rates, y=current_posterior)\nfig.add_trace(trace)\nfig.add_vline(x=true_success_rate, line_color=\"red\")\nfig.update_layout(xaxis_title=\"Success Rate\",\n                  yaxis_title=\"Probability\",\n                  title=(f\"Number Observations {i+1}, \"\n                         f\"True Prob. Success {true_success_rate}\"))\nfig"
      ]
    },
    {
      "cell_type": "markdown",
      "metadata": {},
      "source": [
        "computer and plot posteriors for 11 observations\n\n"
      ]
    },
    {
      "cell_type": "code",
      "execution_count": null,
      "metadata": {
        "collapsed": false
      },
      "outputs": [],
      "source": [
        "i = 11\nan_obs_num_successes = obs_num_successes[i]\ncurrent_likelihood = np.array([likelihood(num_successes=an_obs_num_successes,\n                                          success_rate=success_rate)\n                               for success_rate in success_rates])\ncurrent_posterior = current_prior * current_likelihood\ncurrent_posterior /= np.sum(current_posterior)\ncurrent_prior = current_posterior\n\nfig = go.Figure()\ntrace = go.Bar(x=success_rates, y=current_posterior)\nfig.add_trace(trace)\nfig.add_vline(x=true_success_rate, line_color=\"red\")\nfig.update_layout(xaxis_title=\"Success Rate\",\n                  yaxis_title=\"Probability\",\n                  title=(f\"Number Observations {i+1}, \"\n                         f\"True Prob. Success {true_success_rate}\"))\nfig"
      ]
    },
    {
      "cell_type": "markdown",
      "metadata": {},
      "source": [
        "computer and plot posteriors for 12 observations\n\n"
      ]
    },
    {
      "cell_type": "code",
      "execution_count": null,
      "metadata": {
        "collapsed": false
      },
      "outputs": [],
      "source": [
        "i = 12\nan_obs_num_successes = obs_num_successes[i]\ncurrent_likelihood = np.array([likelihood(num_successes=an_obs_num_successes,\n                                          success_rate=success_rate)\n                               for success_rate in success_rates])\ncurrent_posterior = current_prior * current_likelihood\ncurrent_posterior /= np.sum(current_posterior)\ncurrent_prior = current_posterior\n\nfig = go.Figure()\ntrace = go.Bar(x=success_rates, y=current_posterior)\nfig.add_trace(trace)\nfig.add_vline(x=true_success_rate, line_color=\"red\")\nfig.update_layout(xaxis_title=\"Success Rate\",\n                  yaxis_title=\"Probability\",\n                  title=(f\"Number Observations {i+1}, \"\n                         f\"True Prob. Success {true_success_rate}\"))\nfig"
      ]
    },
    {
      "cell_type": "markdown",
      "metadata": {},
      "source": [
        "computer and plot posteriors for 13 observations\n\n"
      ]
    },
    {
      "cell_type": "code",
      "execution_count": null,
      "metadata": {
        "collapsed": false
      },
      "outputs": [],
      "source": [
        "i = 13\nan_obs_num_successes = obs_num_successes[i]\ncurrent_likelihood = np.array([likelihood(num_successes=an_obs_num_successes,\n                                          success_rate=success_rate)\n                               for success_rate in success_rates])\ncurrent_posterior = current_prior * current_likelihood\ncurrent_posterior /= np.sum(current_posterior)\ncurrent_prior = current_posterior\n\nfig = go.Figure()\ntrace = go.Bar(x=success_rates, y=current_posterior)\nfig.add_trace(trace)\nfig.add_vline(x=true_success_rate, line_color=\"red\")\nfig.update_layout(xaxis_title=\"Success Rate\",\n                  yaxis_title=\"Probability\",\n                  title=(f\"Number Observations {i+1}, \"\n                         f\"True Prob. Success {true_success_rate}\"))\nfig"
      ]
    },
    {
      "cell_type": "markdown",
      "metadata": {},
      "source": [
        "computer and plot posteriors for 14 observations\n\n"
      ]
    },
    {
      "cell_type": "code",
      "execution_count": null,
      "metadata": {
        "collapsed": false
      },
      "outputs": [],
      "source": [
        "i = 14\nan_obs_num_successes = obs_num_successes[i]\ncurrent_likelihood = np.array([likelihood(num_successes=an_obs_num_successes,\n                                          success_rate=success_rate)\n                               for success_rate in success_rates])\ncurrent_posterior = current_prior * current_likelihood\ncurrent_posterior /= np.sum(current_posterior)\ncurrent_prior = current_posterior\n\nfig = go.Figure()\ntrace = go.Bar(x=success_rates, y=current_posterior)\nfig.add_trace(trace)\nfig.add_vline(x=true_success_rate, line_color=\"red\")\nfig.update_layout(xaxis_title=\"Success Rate\",\n                  yaxis_title=\"Probability\",\n                  title=(f\"Number Observations {i+1}, \"\n                         f\"True Prob. Success {true_success_rate}\"))\nfig"
      ]
    },
    {
      "cell_type": "markdown",
      "metadata": {},
      "source": [
        "computer and plot posteriors for 15 observations\n\n"
      ]
    },
    {
      "cell_type": "code",
      "execution_count": null,
      "metadata": {
        "collapsed": false
      },
      "outputs": [],
      "source": [
        "i = 15\nan_obs_num_successes = obs_num_successes[i]\ncurrent_likelihood = np.array([likelihood(num_successes=an_obs_num_successes,\n                                          success_rate=success_rate)\n                               for success_rate in success_rates])\ncurrent_posterior = current_prior * current_likelihood\ncurrent_posterior /= np.sum(current_posterior)\ncurrent_prior = current_posterior\n\nfig = go.Figure()\ntrace = go.Bar(x=success_rates, y=current_posterior)\nfig.add_trace(trace)\nfig.add_vline(x=true_success_rate, line_color=\"red\")\nfig.update_layout(xaxis_title=\"Success Rate\",\n                  yaxis_title=\"Probability\",\n                  title=(f\"Number Observations {i+1}, \"\n                         f\"True Prob. Success {true_success_rate}\"))\nfig"
      ]
    },
    {
      "cell_type": "markdown",
      "metadata": {},
      "source": [
        "computer and plot posteriors for 16 observations\n\n"
      ]
    },
    {
      "cell_type": "code",
      "execution_count": null,
      "metadata": {
        "collapsed": false
      },
      "outputs": [],
      "source": [
        "i = 16\nan_obs_num_successes = obs_num_successes[i]\ncurrent_likelihood = np.array([likelihood(num_successes=an_obs_num_successes,\n                                          success_rate=success_rate)\n                               for success_rate in success_rates])\ncurrent_posterior = current_prior * current_likelihood\ncurrent_posterior /= np.sum(current_posterior)\ncurrent_prior = current_posterior\n\nfig = go.Figure()\ntrace = go.Bar(x=success_rates, y=current_posterior)\nfig.add_trace(trace)\nfig.add_vline(x=true_success_rate, line_color=\"red\")\nfig.update_layout(xaxis_title=\"Success Rate\",\n                  yaxis_title=\"Probability\",\n                  title=(f\"Number Observations {i+1}, \"\n                         f\"True Prob. Success {true_success_rate}\"))\nfig"
      ]
    },
    {
      "cell_type": "markdown",
      "metadata": {},
      "source": [
        "computer and plot posteriors for 17 observations\n\n"
      ]
    },
    {
      "cell_type": "code",
      "execution_count": null,
      "metadata": {
        "collapsed": false
      },
      "outputs": [],
      "source": [
        "i = 17\nan_obs_num_successes = obs_num_successes[i]\ncurrent_likelihood = np.array([likelihood(num_successes=an_obs_num_successes,\n                                          success_rate=success_rate)\n                               for success_rate in success_rates])\ncurrent_posterior = current_prior * current_likelihood\ncurrent_posterior /= np.sum(current_posterior)\ncurrent_prior = current_posterior\n\nfig = go.Figure()\ntrace = go.Bar(x=success_rates, y=current_posterior)\nfig.add_trace(trace)\nfig.add_vline(x=true_success_rate, line_color=\"red\")\nfig.update_layout(xaxis_title=\"Success Rate\",\n                  yaxis_title=\"Probability\",\n                  title=(f\"Number Observations {i+1}, \"\n                         f\"True Prob. Success {true_success_rate}\"))\nfig"
      ]
    },
    {
      "cell_type": "markdown",
      "metadata": {},
      "source": [
        "computer and plot posteriors for 18 observations\n\n"
      ]
    },
    {
      "cell_type": "code",
      "execution_count": null,
      "metadata": {
        "collapsed": false
      },
      "outputs": [],
      "source": [
        "i = 18\nan_obs_num_successes = obs_num_successes[i]\ncurrent_likelihood = np.array([likelihood(num_successes=an_obs_num_successes,\n                                          success_rate=success_rate)\n                               for success_rate in success_rates])\ncurrent_posterior = current_prior * current_likelihood\ncurrent_posterior /= np.sum(current_posterior)\ncurrent_prior = current_posterior\n\nfig = go.Figure()\ntrace = go.Bar(x=success_rates, y=current_posterior)\nfig.add_trace(trace)\nfig.add_vline(x=true_success_rate, line_color=\"red\")\nfig.update_layout(xaxis_title=\"Success Rate\",\n                  yaxis_title=\"Probability\",\n                  title=(f\"Number Observations {i+1}, \"\n                         f\"True Prob. Success {true_success_rate}\"))\nfig"
      ]
    },
    {
      "cell_type": "markdown",
      "metadata": {},
      "source": [
        "computer and plot posteriors for 19 observations\n\n"
      ]
    },
    {
      "cell_type": "code",
      "execution_count": null,
      "metadata": {
        "collapsed": false
      },
      "outputs": [],
      "source": [
        "i = 19\nan_obs_num_successes = obs_num_successes[i]\ncurrent_likelihood = np.array([likelihood(num_successes=an_obs_num_successes,\n                                          success_rate=success_rate)\n                               for success_rate in success_rates])\ncurrent_posterior = current_prior * current_likelihood\ncurrent_posterior /= np.sum(current_posterior)\ncurrent_prior = current_posterior\n\nfig = go.Figure()\ntrace = go.Bar(x=success_rates, y=current_posterior)\nfig.add_trace(trace)\nfig.add_vline(x=true_success_rate, line_color=\"red\")\nfig.update_layout(xaxis_title=\"Success Rate\",\n                  yaxis_title=\"Probability\",\n                  title=(f\"Number Observations {i+1}, \"\n                         f\"True Prob. Success {true_success_rate}\"))\nfig"
      ]
    },
    {
      "cell_type": "markdown",
      "metadata": {},
      "source": [
        "computer and plot posteriors for 20 observations\n\n"
      ]
    },
    {
      "cell_type": "code",
      "execution_count": null,
      "metadata": {
        "collapsed": false
      },
      "outputs": [],
      "source": [
        "i = 20\nan_obs_num_successes = obs_num_successes[i]\ncurrent_likelihood = np.array([likelihood(num_successes=an_obs_num_successes,\n                                          success_rate=success_rate)\n                               for success_rate in success_rates])\ncurrent_posterior = current_prior * current_likelihood\ncurrent_posterior /= np.sum(current_posterior)\ncurrent_prior = current_posterior\n\nfig = go.Figure()\ntrace = go.Bar(x=success_rates, y=current_posterior)\nfig.add_trace(trace)\nfig.add_vline(x=true_success_rate, line_color=\"red\")\nfig.update_layout(xaxis_title=\"Success Rate\",\n                  yaxis_title=\"Probability\",\n                  title=(f\"Number Observations {i+1}, \"\n                         f\"True Prob. Success {true_success_rate}\"))\nfig"
      ]
    },
    {
      "cell_type": "markdown",
      "metadata": {},
      "source": [
        "computer and plot posteriors for 21 observations\n\n"
      ]
    },
    {
      "cell_type": "code",
      "execution_count": null,
      "metadata": {
        "collapsed": false
      },
      "outputs": [],
      "source": [
        "i = 21\nan_obs_num_successes = obs_num_successes[i]\ncurrent_likelihood = np.array([likelihood(num_successes=an_obs_num_successes,\n                                          success_rate=success_rate)\n                               for success_rate in success_rates])\ncurrent_posterior = current_prior * current_likelihood\ncurrent_posterior /= np.sum(current_posterior)\ncurrent_prior = current_posterior\n\nfig = go.Figure()\ntrace = go.Bar(x=success_rates, y=current_posterior)\nfig.add_trace(trace)\nfig.add_vline(x=true_success_rate, line_color=\"red\")\nfig.update_layout(xaxis_title=\"Success Rate\",\n                  yaxis_title=\"Probability\",\n                  title=(f\"Number Observations {i+1}, \"\n                         f\"True Prob. Success {true_success_rate}\"))\nfig"
      ]
    },
    {
      "cell_type": "markdown",
      "metadata": {},
      "source": [
        "computer and plot posteriors for 22 observations\n\n"
      ]
    },
    {
      "cell_type": "code",
      "execution_count": null,
      "metadata": {
        "collapsed": false
      },
      "outputs": [],
      "source": [
        "i = 22\nan_obs_num_successes = obs_num_successes[i]\ncurrent_likelihood = np.array([likelihood(num_successes=an_obs_num_successes,\n                                          success_rate=success_rate)\n                               for success_rate in success_rates])\ncurrent_posterior = current_prior * current_likelihood\ncurrent_posterior /= np.sum(current_posterior)\ncurrent_prior = current_posterior\n\nfig = go.Figure()\ntrace = go.Bar(x=success_rates, y=current_posterior)\nfig.add_trace(trace)\nfig.add_vline(x=true_success_rate, line_color=\"red\")\nfig.update_layout(xaxis_title=\"Success Rate\",\n                  yaxis_title=\"Probability\",\n                  title=(f\"Number Observations {i+1}, \"\n                         f\"True Prob. Success {true_success_rate}\"))\nfig"
      ]
    },
    {
      "cell_type": "markdown",
      "metadata": {},
      "source": [
        "computer and plot posteriors for 23 observations\n\n"
      ]
    },
    {
      "cell_type": "code",
      "execution_count": null,
      "metadata": {
        "collapsed": false
      },
      "outputs": [],
      "source": [
        "i = 23\nan_obs_num_successes = obs_num_successes[i]\ncurrent_likelihood = np.array([likelihood(num_successes=an_obs_num_successes,\n                                          success_rate=success_rate)\n                               for success_rate in success_rates])\ncurrent_posterior = current_prior * current_likelihood\ncurrent_posterior /= np.sum(current_posterior)\ncurrent_prior = current_posterior\n\nfig = go.Figure()\ntrace = go.Bar(x=success_rates, y=current_posterior)\nfig.add_trace(trace)\nfig.add_vline(x=true_success_rate, line_color=\"red\")\nfig.update_layout(xaxis_title=\"Success Rate\",\n                  yaxis_title=\"Probability\",\n                  title=(f\"Number Observations {i+1}, \"\n                         f\"True Prob. Success {true_success_rate}\"))\nfig"
      ]
    },
    {
      "cell_type": "markdown",
      "metadata": {},
      "source": [
        "computer and plot posteriors for 24 observations\n\n"
      ]
    },
    {
      "cell_type": "code",
      "execution_count": null,
      "metadata": {
        "collapsed": false
      },
      "outputs": [],
      "source": [
        "i = 24\nan_obs_num_successes = obs_num_successes[i]\ncurrent_likelihood = np.array([likelihood(num_successes=an_obs_num_successes,\n                                          success_rate=success_rate)\n                               for success_rate in success_rates])\ncurrent_posterior = current_prior * current_likelihood\ncurrent_posterior /= np.sum(current_posterior)\ncurrent_prior = current_posterior\n\nfig = go.Figure()\ntrace = go.Bar(x=success_rates, y=current_posterior)\nfig.add_trace(trace)\nfig.add_vline(x=true_success_rate, line_color=\"red\")\nfig.update_layout(xaxis_title=\"Success Rate\",\n                  yaxis_title=\"Probability\",\n                  title=(f\"Number Observations {i+1}, \"\n                         f\"True Prob. Success {true_success_rate}\"))\nfig"
      ]
    },
    {
      "cell_type": "markdown",
      "metadata": {},
      "source": [
        "computer and plot posteriors for 25 observations\n\n"
      ]
    },
    {
      "cell_type": "code",
      "execution_count": null,
      "metadata": {
        "collapsed": false
      },
      "outputs": [],
      "source": [
        "i = 25\nan_obs_num_successes = obs_num_successes[i]\ncurrent_likelihood = np.array([likelihood(num_successes=an_obs_num_successes,\n                                          success_rate=success_rate)\n                               for success_rate in success_rates])\ncurrent_posterior = current_prior * current_likelihood\ncurrent_posterior /= np.sum(current_posterior)\ncurrent_prior = current_posterior\n\nfig = go.Figure()\ntrace = go.Bar(x=success_rates, y=current_posterior)\nfig.add_trace(trace)\nfig.add_vline(x=true_success_rate, line_color=\"red\")\nfig.update_layout(xaxis_title=\"Success Rate\",\n                  yaxis_title=\"Probability\",\n                  title=(f\"Number Observations {i+1}, \"\n                         f\"True Prob. Success {true_success_rate}\"))\nfig"
      ]
    },
    {
      "cell_type": "markdown",
      "metadata": {},
      "source": [
        "computer and plot posteriors for 26 observations\n\n"
      ]
    },
    {
      "cell_type": "code",
      "execution_count": null,
      "metadata": {
        "collapsed": false
      },
      "outputs": [],
      "source": [
        "i = 26\nan_obs_num_successes = obs_num_successes[i]\ncurrent_likelihood = np.array([likelihood(num_successes=an_obs_num_successes,\n                                          success_rate=success_rate)\n                               for success_rate in success_rates])\ncurrent_posterior = current_prior * current_likelihood\ncurrent_posterior /= np.sum(current_posterior)\ncurrent_prior = current_posterior\n\nfig = go.Figure()\ntrace = go.Bar(x=success_rates, y=current_posterior)\nfig.add_trace(trace)\nfig.add_vline(x=true_success_rate, line_color=\"red\")\nfig.update_layout(xaxis_title=\"Success Rate\",\n                  yaxis_title=\"Probability\",\n                  title=(f\"Number Observations {i+1}, \"\n                         f\"True Prob. Success {true_success_rate}\"))\nfig"
      ]
    },
    {
      "cell_type": "markdown",
      "metadata": {},
      "source": [
        "computer and plot posteriors for 27 observations\n\n"
      ]
    },
    {
      "cell_type": "code",
      "execution_count": null,
      "metadata": {
        "collapsed": false
      },
      "outputs": [],
      "source": [
        "i = 27\nan_obs_num_successes = obs_num_successes[i]\ncurrent_likelihood = np.array([likelihood(num_successes=an_obs_num_successes,\n                                          success_rate=success_rate)\n                               for success_rate in success_rates])\ncurrent_posterior = current_prior * current_likelihood\ncurrent_posterior /= np.sum(current_posterior)\ncurrent_prior = current_posterior\n\nfig = go.Figure()\ntrace = go.Bar(x=success_rates, y=current_posterior)\nfig.add_trace(trace)\nfig.add_vline(x=true_success_rate, line_color=\"red\")\nfig.update_layout(xaxis_title=\"Success Rate\",\n                  yaxis_title=\"Probability\",\n                  title=(f\"Number Observations {i+1}, \"\n                         f\"True Prob. Success {true_success_rate}\"))\nfig"
      ]
    },
    {
      "cell_type": "markdown",
      "metadata": {},
      "source": [
        "computer and plot posteriors for 28 observations\n\n"
      ]
    },
    {
      "cell_type": "code",
      "execution_count": null,
      "metadata": {
        "collapsed": false
      },
      "outputs": [],
      "source": [
        "i = 28\nan_obs_num_successes = obs_num_successes[i]\ncurrent_likelihood = np.array([likelihood(num_successes=an_obs_num_successes,\n                                          success_rate=success_rate)\n                               for success_rate in success_rates])\ncurrent_posterior = current_prior * current_likelihood\ncurrent_posterior /= np.sum(current_posterior)\ncurrent_prior = current_posterior\n\nfig = go.Figure()\ntrace = go.Bar(x=success_rates, y=current_posterior)\nfig.add_trace(trace)\nfig.add_vline(x=true_success_rate, line_color=\"red\")\nfig.update_layout(xaxis_title=\"Success Rate\",\n                  yaxis_title=\"Probability\",\n                  title=(f\"Number Observations {i+1}, \"\n                         f\"True Prob. Success {true_success_rate}\"))\nfig"
      ]
    },
    {
      "cell_type": "markdown",
      "metadata": {},
      "source": [
        "computer and plot posteriors for 29 observations\n\n"
      ]
    },
    {
      "cell_type": "code",
      "execution_count": null,
      "metadata": {
        "collapsed": false
      },
      "outputs": [],
      "source": [
        "i = 29\nan_obs_num_successes = obs_num_successes[i]\ncurrent_likelihood = np.array([likelihood(num_successes=an_obs_num_successes,\n                                          success_rate=success_rate)\n                               for success_rate in success_rates])\ncurrent_posterior = current_prior * current_likelihood\ncurrent_posterior /= np.sum(current_posterior)\ncurrent_prior = current_posterior\n\nfig = go.Figure()\ntrace = go.Bar(x=success_rates, y=current_posterior)\nfig.add_trace(trace)\nfig.add_vline(x=true_success_rate, line_color=\"red\")\nfig.update_layout(xaxis_title=\"Success Rate\",\n                  yaxis_title=\"Probability\",\n                  title=(f\"Number Observations {i+1}, \"\n                         f\"True Prob. Success {true_success_rate}\"))\nfig"
      ]
    }
  ],
  "metadata": {
    "kernelspec": {
      "display_name": "Python 3",
      "language": "python",
      "name": "python3"
    },
    "language_info": {
      "codemirror_mode": {
        "name": "ipython",
        "version": 3
      },
      "file_extension": ".py",
      "mimetype": "text/x-python",
      "name": "python",
      "nbconvert_exporter": "python",
      "pygments_lexer": "ipython3",
      "version": "3.11.6"
    }
  },
  "nbformat": 4,
  "nbformat_minor": 0
}