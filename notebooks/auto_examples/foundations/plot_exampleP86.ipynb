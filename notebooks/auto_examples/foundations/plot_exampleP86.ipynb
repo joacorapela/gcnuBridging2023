{
  "cells": [
    {
      "cell_type": "markdown",
      "metadata": {},
      "source": [
        "\n# Example p86: dice roll and coint tosses\n"
      ]
    },
    {
      "cell_type": "code",
      "execution_count": null,
      "metadata": {
        "collapsed": false
      },
      "outputs": [],
      "source": [
        "import numpy as np"
      ]
    },
    {
      "cell_type": "markdown",
      "metadata": {},
      "source": [
        "This function draws a sample from the sample space\n\n\n"
      ]
    },
    {
      "cell_type": "code",
      "execution_count": null,
      "metadata": {
        "collapsed": false
      },
      "outputs": [],
      "source": [
        "def sample():\n    dice_roll = np.random.randint(low=1, high=7, size=1)[0]\n    coin_tosses = [None] * dice_roll\n    for i in range(dice_roll):\n        uniform_sample = np.random.uniform()\n        if uniform_sample < 0.5:\n            coin_tosses[i] = \"H\"\n        else:\n            coin_tosses[i] = \"T\"\n    return dice_roll, coin_tosses"
      ]
    },
    {
      "cell_type": "markdown",
      "metadata": {},
      "source": [
        "This function checks if the sample belongs to the event\n\n\n"
      ]
    },
    {
      "cell_type": "code",
      "execution_count": null,
      "metadata": {
        "collapsed": false
      },
      "outputs": [],
      "source": [
        "def sample_in_event(dice_coins):\n    # no coin toss is a head (H)\n    coin_tosses = dice_coins[1]\n    for coin_toss in coin_tosses:\n        if coin_toss == \"H\":\n            return False\n    return True"
      ]
    },
    {
      "cell_type": "markdown",
      "metadata": {},
      "source": [
        "Below we draw many samples, check if each sample belongs to the event, and\ncomputes the probability of the event as the frequency of drawn samples\nbelonging to the event.\n\n"
      ]
    },
    {
      "cell_type": "code",
      "execution_count": null,
      "metadata": {
        "collapsed": false
      },
      "outputs": [],
      "source": [
        "n_samples=100000\n\nn_samples_in_event = 0\nfor i in range(n_samples):\n    a_sample = sample()\n    if sample_in_event(a_sample):\n        n_samples_in_event += 1\np_event = n_samples_in_event/n_samples\n\nprint(f\"probability {p_event}, \"\n      f\"estimated from {n_samples} simulations\")"
      ]
    }
  ],
  "metadata": {
    "kernelspec": {
      "display_name": "Python 3",
      "language": "python",
      "name": "python3"
    },
    "language_info": {
      "codemirror_mode": {
        "name": "ipython",
        "version": 3
      },
      "file_extension": ".py",
      "mimetype": "text/x-python",
      "name": "python",
      "nbconvert_exporter": "python",
      "pygments_lexer": "ipython3",
      "version": "3.11.6"
    }
  },
  "nbformat": 4,
  "nbformat_minor": 0
}